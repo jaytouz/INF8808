{
 "cells": [
  {
   "cell_type": "markdown",
   "id": "e6e04116-79c7-4238-852e-ee405f4c9bff",
   "metadata": {},
   "source": [
    "### Importation des librairies"
   ]
  },
  {
   "cell_type": "code",
   "execution_count": 1,
   "id": "e2535ff4-daa3-4c66-8bd6-f6ad4688b208",
   "metadata": {},
   "outputs": [],
   "source": [
    "import pandas as pd\n",
    "import numpy as np\n",
    "import plotly.express as px\n",
    "import matplotlib.pyplot as plt\n",
    "import plotly"
   ]
  },
  {
   "cell_type": "markdown",
   "id": "1b79fc71-e087-46ac-9fe3-03c674b82637",
   "metadata": {},
   "source": [
    "### Lecture des données et convertion des dates"
   ]
  },
  {
   "cell_type": "code",
   "execution_count": 2,
   "id": "6982c5cd-70a0-4cb0-b962-3158e07c83ec",
   "metadata": {},
   "outputs": [
    {
     "ename": "FileNotFoundError",
     "evalue": "[Errno 2] No such file or directory: '/data/collisions_routieres.csv'",
     "output_type": "error",
     "traceback": [
      "\u001b[0;31m---------------------------------------------------------------------------\u001b[0m",
      "\u001b[0;31mFileNotFoundError\u001b[0m                         Traceback (most recent call last)",
      "Input \u001b[0;32mIn [2]\u001b[0m, in \u001b[0;36m<cell line: 1>\u001b[0;34m()\u001b[0m\n\u001b[0;32m----> 1\u001b[0m df \u001b[38;5;241m=\u001b[39m \u001b[43mpd\u001b[49m\u001b[38;5;241;43m.\u001b[39;49m\u001b[43mread_csv\u001b[49m\u001b[43m(\u001b[49m\u001b[38;5;124;43m'\u001b[39;49m\u001b[38;5;124;43m/data/collisions_routieres.csv\u001b[39;49m\u001b[38;5;124;43m'\u001b[39;49m\u001b[43m)\u001b[49m\n\u001b[1;32m      2\u001b[0m df[\u001b[38;5;124m\"\u001b[39m\u001b[38;5;124mDT_ACCDN\u001b[39m\u001b[38;5;124m\"\u001b[39m] \u001b[38;5;241m=\u001b[39m pd\u001b[38;5;241m.\u001b[39mto_datetime(df[\u001b[38;5;124m\"\u001b[39m\u001b[38;5;124mDT_ACCDN\u001b[39m\u001b[38;5;124m\"\u001b[39m])\n\u001b[1;32m      3\u001b[0m df[\u001b[38;5;124m\"\u001b[39m\u001b[38;5;124myear\u001b[39m\u001b[38;5;124m\"\u001b[39m] \u001b[38;5;241m=\u001b[39m df[\u001b[38;5;124m\"\u001b[39m\u001b[38;5;124mDT_ACCDN\u001b[39m\u001b[38;5;124m\"\u001b[39m]\u001b[38;5;241m.\u001b[39mdt\u001b[38;5;241m.\u001b[39myear\n",
      "File \u001b[0;32m~/.local/lib/python3.8/site-packages/pandas/util/_decorators.py:311\u001b[0m, in \u001b[0;36mdeprecate_nonkeyword_arguments.<locals>.decorate.<locals>.wrapper\u001b[0;34m(*args, **kwargs)\u001b[0m\n\u001b[1;32m    305\u001b[0m \u001b[38;5;28;01mif\u001b[39;00m \u001b[38;5;28mlen\u001b[39m(args) \u001b[38;5;241m>\u001b[39m num_allow_args:\n\u001b[1;32m    306\u001b[0m     warnings\u001b[38;5;241m.\u001b[39mwarn(\n\u001b[1;32m    307\u001b[0m         msg\u001b[38;5;241m.\u001b[39mformat(arguments\u001b[38;5;241m=\u001b[39marguments),\n\u001b[1;32m    308\u001b[0m         \u001b[38;5;167;01mFutureWarning\u001b[39;00m,\n\u001b[1;32m    309\u001b[0m         stacklevel\u001b[38;5;241m=\u001b[39mstacklevel,\n\u001b[1;32m    310\u001b[0m     )\n\u001b[0;32m--> 311\u001b[0m \u001b[38;5;28;01mreturn\u001b[39;00m \u001b[43mfunc\u001b[49m\u001b[43m(\u001b[49m\u001b[38;5;241;43m*\u001b[39;49m\u001b[43margs\u001b[49m\u001b[43m,\u001b[49m\u001b[43m \u001b[49m\u001b[38;5;241;43m*\u001b[39;49m\u001b[38;5;241;43m*\u001b[39;49m\u001b[43mkwargs\u001b[49m\u001b[43m)\u001b[49m\n",
      "File \u001b[0;32m~/.local/lib/python3.8/site-packages/pandas/io/parsers/readers.py:680\u001b[0m, in \u001b[0;36mread_csv\u001b[0;34m(filepath_or_buffer, sep, delimiter, header, names, index_col, usecols, squeeze, prefix, mangle_dupe_cols, dtype, engine, converters, true_values, false_values, skipinitialspace, skiprows, skipfooter, nrows, na_values, keep_default_na, na_filter, verbose, skip_blank_lines, parse_dates, infer_datetime_format, keep_date_col, date_parser, dayfirst, cache_dates, iterator, chunksize, compression, thousands, decimal, lineterminator, quotechar, quoting, doublequote, escapechar, comment, encoding, encoding_errors, dialect, error_bad_lines, warn_bad_lines, on_bad_lines, delim_whitespace, low_memory, memory_map, float_precision, storage_options)\u001b[0m\n\u001b[1;32m    665\u001b[0m kwds_defaults \u001b[38;5;241m=\u001b[39m _refine_defaults_read(\n\u001b[1;32m    666\u001b[0m     dialect,\n\u001b[1;32m    667\u001b[0m     delimiter,\n\u001b[0;32m   (...)\u001b[0m\n\u001b[1;32m    676\u001b[0m     defaults\u001b[38;5;241m=\u001b[39m{\u001b[38;5;124m\"\u001b[39m\u001b[38;5;124mdelimiter\u001b[39m\u001b[38;5;124m\"\u001b[39m: \u001b[38;5;124m\"\u001b[39m\u001b[38;5;124m,\u001b[39m\u001b[38;5;124m\"\u001b[39m},\n\u001b[1;32m    677\u001b[0m )\n\u001b[1;32m    678\u001b[0m kwds\u001b[38;5;241m.\u001b[39mupdate(kwds_defaults)\n\u001b[0;32m--> 680\u001b[0m \u001b[38;5;28;01mreturn\u001b[39;00m \u001b[43m_read\u001b[49m\u001b[43m(\u001b[49m\u001b[43mfilepath_or_buffer\u001b[49m\u001b[43m,\u001b[49m\u001b[43m \u001b[49m\u001b[43mkwds\u001b[49m\u001b[43m)\u001b[49m\n",
      "File \u001b[0;32m~/.local/lib/python3.8/site-packages/pandas/io/parsers/readers.py:575\u001b[0m, in \u001b[0;36m_read\u001b[0;34m(filepath_or_buffer, kwds)\u001b[0m\n\u001b[1;32m    572\u001b[0m _validate_names(kwds\u001b[38;5;241m.\u001b[39mget(\u001b[38;5;124m\"\u001b[39m\u001b[38;5;124mnames\u001b[39m\u001b[38;5;124m\"\u001b[39m, \u001b[38;5;28;01mNone\u001b[39;00m))\n\u001b[1;32m    574\u001b[0m \u001b[38;5;66;03m# Create the parser.\u001b[39;00m\n\u001b[0;32m--> 575\u001b[0m parser \u001b[38;5;241m=\u001b[39m \u001b[43mTextFileReader\u001b[49m\u001b[43m(\u001b[49m\u001b[43mfilepath_or_buffer\u001b[49m\u001b[43m,\u001b[49m\u001b[43m \u001b[49m\u001b[38;5;241;43m*\u001b[39;49m\u001b[38;5;241;43m*\u001b[39;49m\u001b[43mkwds\u001b[49m\u001b[43m)\u001b[49m\n\u001b[1;32m    577\u001b[0m \u001b[38;5;28;01mif\u001b[39;00m chunksize \u001b[38;5;129;01mor\u001b[39;00m iterator:\n\u001b[1;32m    578\u001b[0m     \u001b[38;5;28;01mreturn\u001b[39;00m parser\n",
      "File \u001b[0;32m~/.local/lib/python3.8/site-packages/pandas/io/parsers/readers.py:933\u001b[0m, in \u001b[0;36mTextFileReader.__init__\u001b[0;34m(self, f, engine, **kwds)\u001b[0m\n\u001b[1;32m    930\u001b[0m     \u001b[38;5;28mself\u001b[39m\u001b[38;5;241m.\u001b[39moptions[\u001b[38;5;124m\"\u001b[39m\u001b[38;5;124mhas_index_names\u001b[39m\u001b[38;5;124m\"\u001b[39m] \u001b[38;5;241m=\u001b[39m kwds[\u001b[38;5;124m\"\u001b[39m\u001b[38;5;124mhas_index_names\u001b[39m\u001b[38;5;124m\"\u001b[39m]\n\u001b[1;32m    932\u001b[0m \u001b[38;5;28mself\u001b[39m\u001b[38;5;241m.\u001b[39mhandles: IOHandles \u001b[38;5;241m|\u001b[39m \u001b[38;5;28;01mNone\u001b[39;00m \u001b[38;5;241m=\u001b[39m \u001b[38;5;28;01mNone\u001b[39;00m\n\u001b[0;32m--> 933\u001b[0m \u001b[38;5;28mself\u001b[39m\u001b[38;5;241m.\u001b[39m_engine \u001b[38;5;241m=\u001b[39m \u001b[38;5;28;43mself\u001b[39;49m\u001b[38;5;241;43m.\u001b[39;49m\u001b[43m_make_engine\u001b[49m\u001b[43m(\u001b[49m\u001b[43mf\u001b[49m\u001b[43m,\u001b[49m\u001b[43m \u001b[49m\u001b[38;5;28;43mself\u001b[39;49m\u001b[38;5;241;43m.\u001b[39;49m\u001b[43mengine\u001b[49m\u001b[43m)\u001b[49m\n",
      "File \u001b[0;32m~/.local/lib/python3.8/site-packages/pandas/io/parsers/readers.py:1217\u001b[0m, in \u001b[0;36mTextFileReader._make_engine\u001b[0;34m(self, f, engine)\u001b[0m\n\u001b[1;32m   1213\u001b[0m     mode \u001b[38;5;241m=\u001b[39m \u001b[38;5;124m\"\u001b[39m\u001b[38;5;124mrb\u001b[39m\u001b[38;5;124m\"\u001b[39m\n\u001b[1;32m   1214\u001b[0m \u001b[38;5;66;03m# error: No overload variant of \"get_handle\" matches argument types\u001b[39;00m\n\u001b[1;32m   1215\u001b[0m \u001b[38;5;66;03m# \"Union[str, PathLike[str], ReadCsvBuffer[bytes], ReadCsvBuffer[str]]\"\u001b[39;00m\n\u001b[1;32m   1216\u001b[0m \u001b[38;5;66;03m# , \"str\", \"bool\", \"Any\", \"Any\", \"Any\", \"Any\", \"Any\"\u001b[39;00m\n\u001b[0;32m-> 1217\u001b[0m \u001b[38;5;28mself\u001b[39m\u001b[38;5;241m.\u001b[39mhandles \u001b[38;5;241m=\u001b[39m \u001b[43mget_handle\u001b[49m\u001b[43m(\u001b[49m\u001b[43m  \u001b[49m\u001b[38;5;66;43;03m# type: ignore[call-overload]\u001b[39;49;00m\n\u001b[1;32m   1218\u001b[0m \u001b[43m    \u001b[49m\u001b[43mf\u001b[49m\u001b[43m,\u001b[49m\n\u001b[1;32m   1219\u001b[0m \u001b[43m    \u001b[49m\u001b[43mmode\u001b[49m\u001b[43m,\u001b[49m\n\u001b[1;32m   1220\u001b[0m \u001b[43m    \u001b[49m\u001b[43mencoding\u001b[49m\u001b[38;5;241;43m=\u001b[39;49m\u001b[38;5;28;43mself\u001b[39;49m\u001b[38;5;241;43m.\u001b[39;49m\u001b[43moptions\u001b[49m\u001b[38;5;241;43m.\u001b[39;49m\u001b[43mget\u001b[49m\u001b[43m(\u001b[49m\u001b[38;5;124;43m\"\u001b[39;49m\u001b[38;5;124;43mencoding\u001b[39;49m\u001b[38;5;124;43m\"\u001b[39;49m\u001b[43m,\u001b[49m\u001b[43m \u001b[49m\u001b[38;5;28;43;01mNone\u001b[39;49;00m\u001b[43m)\u001b[49m\u001b[43m,\u001b[49m\n\u001b[1;32m   1221\u001b[0m \u001b[43m    \u001b[49m\u001b[43mcompression\u001b[49m\u001b[38;5;241;43m=\u001b[39;49m\u001b[38;5;28;43mself\u001b[39;49m\u001b[38;5;241;43m.\u001b[39;49m\u001b[43moptions\u001b[49m\u001b[38;5;241;43m.\u001b[39;49m\u001b[43mget\u001b[49m\u001b[43m(\u001b[49m\u001b[38;5;124;43m\"\u001b[39;49m\u001b[38;5;124;43mcompression\u001b[39;49m\u001b[38;5;124;43m\"\u001b[39;49m\u001b[43m,\u001b[49m\u001b[43m \u001b[49m\u001b[38;5;28;43;01mNone\u001b[39;49;00m\u001b[43m)\u001b[49m\u001b[43m,\u001b[49m\n\u001b[1;32m   1222\u001b[0m \u001b[43m    \u001b[49m\u001b[43mmemory_map\u001b[49m\u001b[38;5;241;43m=\u001b[39;49m\u001b[38;5;28;43mself\u001b[39;49m\u001b[38;5;241;43m.\u001b[39;49m\u001b[43moptions\u001b[49m\u001b[38;5;241;43m.\u001b[39;49m\u001b[43mget\u001b[49m\u001b[43m(\u001b[49m\u001b[38;5;124;43m\"\u001b[39;49m\u001b[38;5;124;43mmemory_map\u001b[39;49m\u001b[38;5;124;43m\"\u001b[39;49m\u001b[43m,\u001b[49m\u001b[43m \u001b[49m\u001b[38;5;28;43;01mFalse\u001b[39;49;00m\u001b[43m)\u001b[49m\u001b[43m,\u001b[49m\n\u001b[1;32m   1223\u001b[0m \u001b[43m    \u001b[49m\u001b[43mis_text\u001b[49m\u001b[38;5;241;43m=\u001b[39;49m\u001b[43mis_text\u001b[49m\u001b[43m,\u001b[49m\n\u001b[1;32m   1224\u001b[0m \u001b[43m    \u001b[49m\u001b[43merrors\u001b[49m\u001b[38;5;241;43m=\u001b[39;49m\u001b[38;5;28;43mself\u001b[39;49m\u001b[38;5;241;43m.\u001b[39;49m\u001b[43moptions\u001b[49m\u001b[38;5;241;43m.\u001b[39;49m\u001b[43mget\u001b[49m\u001b[43m(\u001b[49m\u001b[38;5;124;43m\"\u001b[39;49m\u001b[38;5;124;43mencoding_errors\u001b[39;49m\u001b[38;5;124;43m\"\u001b[39;49m\u001b[43m,\u001b[49m\u001b[43m \u001b[49m\u001b[38;5;124;43m\"\u001b[39;49m\u001b[38;5;124;43mstrict\u001b[39;49m\u001b[38;5;124;43m\"\u001b[39;49m\u001b[43m)\u001b[49m\u001b[43m,\u001b[49m\n\u001b[1;32m   1225\u001b[0m \u001b[43m    \u001b[49m\u001b[43mstorage_options\u001b[49m\u001b[38;5;241;43m=\u001b[39;49m\u001b[38;5;28;43mself\u001b[39;49m\u001b[38;5;241;43m.\u001b[39;49m\u001b[43moptions\u001b[49m\u001b[38;5;241;43m.\u001b[39;49m\u001b[43mget\u001b[49m\u001b[43m(\u001b[49m\u001b[38;5;124;43m\"\u001b[39;49m\u001b[38;5;124;43mstorage_options\u001b[39;49m\u001b[38;5;124;43m\"\u001b[39;49m\u001b[43m,\u001b[49m\u001b[43m \u001b[49m\u001b[38;5;28;43;01mNone\u001b[39;49;00m\u001b[43m)\u001b[49m\u001b[43m,\u001b[49m\n\u001b[1;32m   1226\u001b[0m \u001b[43m\u001b[49m\u001b[43m)\u001b[49m\n\u001b[1;32m   1227\u001b[0m \u001b[38;5;28;01massert\u001b[39;00m \u001b[38;5;28mself\u001b[39m\u001b[38;5;241m.\u001b[39mhandles \u001b[38;5;129;01mis\u001b[39;00m \u001b[38;5;129;01mnot\u001b[39;00m \u001b[38;5;28;01mNone\u001b[39;00m\n\u001b[1;32m   1228\u001b[0m f \u001b[38;5;241m=\u001b[39m \u001b[38;5;28mself\u001b[39m\u001b[38;5;241m.\u001b[39mhandles\u001b[38;5;241m.\u001b[39mhandle\n",
      "File \u001b[0;32m~/.local/lib/python3.8/site-packages/pandas/io/common.py:789\u001b[0m, in \u001b[0;36mget_handle\u001b[0;34m(path_or_buf, mode, encoding, compression, memory_map, is_text, errors, storage_options)\u001b[0m\n\u001b[1;32m    784\u001b[0m \u001b[38;5;28;01melif\u001b[39;00m \u001b[38;5;28misinstance\u001b[39m(handle, \u001b[38;5;28mstr\u001b[39m):\n\u001b[1;32m    785\u001b[0m     \u001b[38;5;66;03m# Check whether the filename is to be opened in binary mode.\u001b[39;00m\n\u001b[1;32m    786\u001b[0m     \u001b[38;5;66;03m# Binary mode does not support 'encoding' and 'newline'.\u001b[39;00m\n\u001b[1;32m    787\u001b[0m     \u001b[38;5;28;01mif\u001b[39;00m ioargs\u001b[38;5;241m.\u001b[39mencoding \u001b[38;5;129;01mand\u001b[39;00m \u001b[38;5;124m\"\u001b[39m\u001b[38;5;124mb\u001b[39m\u001b[38;5;124m\"\u001b[39m \u001b[38;5;129;01mnot\u001b[39;00m \u001b[38;5;129;01min\u001b[39;00m ioargs\u001b[38;5;241m.\u001b[39mmode:\n\u001b[1;32m    788\u001b[0m         \u001b[38;5;66;03m# Encoding\u001b[39;00m\n\u001b[0;32m--> 789\u001b[0m         handle \u001b[38;5;241m=\u001b[39m \u001b[38;5;28;43mopen\u001b[39;49m\u001b[43m(\u001b[49m\n\u001b[1;32m    790\u001b[0m \u001b[43m            \u001b[49m\u001b[43mhandle\u001b[49m\u001b[43m,\u001b[49m\n\u001b[1;32m    791\u001b[0m \u001b[43m            \u001b[49m\u001b[43mioargs\u001b[49m\u001b[38;5;241;43m.\u001b[39;49m\u001b[43mmode\u001b[49m\u001b[43m,\u001b[49m\n\u001b[1;32m    792\u001b[0m \u001b[43m            \u001b[49m\u001b[43mencoding\u001b[49m\u001b[38;5;241;43m=\u001b[39;49m\u001b[43mioargs\u001b[49m\u001b[38;5;241;43m.\u001b[39;49m\u001b[43mencoding\u001b[49m\u001b[43m,\u001b[49m\n\u001b[1;32m    793\u001b[0m \u001b[43m            \u001b[49m\u001b[43merrors\u001b[49m\u001b[38;5;241;43m=\u001b[39;49m\u001b[43merrors\u001b[49m\u001b[43m,\u001b[49m\n\u001b[1;32m    794\u001b[0m \u001b[43m            \u001b[49m\u001b[43mnewline\u001b[49m\u001b[38;5;241;43m=\u001b[39;49m\u001b[38;5;124;43m\"\u001b[39;49m\u001b[38;5;124;43m\"\u001b[39;49m\u001b[43m,\u001b[49m\n\u001b[1;32m    795\u001b[0m \u001b[43m        \u001b[49m\u001b[43m)\u001b[49m\n\u001b[1;32m    796\u001b[0m     \u001b[38;5;28;01melse\u001b[39;00m:\n\u001b[1;32m    797\u001b[0m         \u001b[38;5;66;03m# Binary mode\u001b[39;00m\n\u001b[1;32m    798\u001b[0m         handle \u001b[38;5;241m=\u001b[39m \u001b[38;5;28mopen\u001b[39m(handle, ioargs\u001b[38;5;241m.\u001b[39mmode)\n",
      "\u001b[0;31mFileNotFoundError\u001b[0m: [Errno 2] No such file or directory: '/data/collisions_routieres.csv'"
     ]
    }
   ],
   "source": [
    "df = pd.read_csv('./data/collisions_routieres.csv')\n",
    "df[\"DT_ACCDN\"] = pd.to_datetime(df[\"DT_ACCDN\"])\n",
    "df[\"year\"] = df[\"DT_ACCDN\"].dt.year\n",
    "df[\"month\"] = df[\"DT_ACCDN\"].dt.month\n",
    "df[\"day\"] = df[\"DT_ACCDN\"].dt.day\n",
    "df[\"weekday\"] = df[\"DT_ACCDN\"].dt.weekday"
   ]
  },
  {
   "cell_type": "markdown",
   "id": "c8f77230-5a03-45c4-9771-102c36b101da",
   "metadata": {},
   "source": [
    "### preparation des données utilisées pour la viz"
   ]
  },
  {
   "cell_type": "code",
   "execution_count": null,
   "id": "8dccf3e5-0554-4be2-875f-f61bdbeddee9",
   "metadata": {},
   "outputs": [],
   "source": [
    "def convert_gravite(x, split_mort_grave=False):\n",
    "    # Takes GRAVITE as input\n",
    "    if split_mort_grave:\n",
    "        if x == 'Mortel':\n",
    "            return 'MORTEL'\n",
    "        elif x == 'Grave':\n",
    "            return 'GRAVE'\n",
    "        else:\n",
    "            return 'LEGER_MATERIEL'\n",
    "    else:\n",
    "        \n",
    "        if x in ['Mortel', 'Grave']:\n",
    "            return 'GRAVE_MORTEL'\n",
    "        else:\n",
    "            return 'LEGER_MATERIEL'\n",
    "\n",
    "    \n",
    "def convert_type(x):\n",
    "    #Takes nb_camionLourd_tractRoutier as input\n",
    "    if x > 0:\n",
    "        return 'CAMION'\n",
    "    else:\n",
    "        return 'SANS_CAMION'"
   ]
  },
  {
   "cell_type": "code",
   "execution_count": null,
   "id": "ce63a800-605b-4055-b625-210d0a1e68f1",
   "metadata": {},
   "outputs": [],
   "source": [
    "# GRAVE_MORTEL OU LEGER_MATERIEL\n",
    "df['GRAVITE_RENAME'] = df.loc[:, 'GRAVITE'].apply(lambda x : convert_gravite(x))\n",
    "df['GRAVITE_SPLIT'] = df.loc[:, 'GRAVITE'].apply(lambda x : convert_gravite(x, split_mort_grave=True))"
   ]
  },
  {
   "cell_type": "code",
   "execution_count": null,
   "id": "0f61d79b-3636-4b0e-aa65-d389783e0b8e",
   "metadata": {},
   "outputs": [],
   "source": [
    "# CAMION OU SANS_CAMION\n",
    "df['TYPE_VEHICULE'] = df.loc[:, 'nb_camionLourd_tractRoutier'].apply(lambda x: convert_type(x))"
   ]
  },
  {
   "cell_type": "markdown",
   "id": "99f02594-25af-4dbb-a063-04d27b5b5100",
   "metadata": {},
   "source": [
    "# MOKCUP"
   ]
  },
  {
   "cell_type": "markdown",
   "id": "dd1d7d3d-edfc-460f-876f-cc70d75aeef1",
   "metadata": {},
   "source": [
    "## Viz #1 : Est-ce que les accidents semblent diminuer à Montréal depuis l'annonce de Vision Zéro"
   ]
  },
  {
   "cell_type": "markdown",
   "id": "68dddce2-408f-433c-a598-7f787443c532",
   "metadata": {},
   "source": [
    "#### Version nombre en fonction du temps"
   ]
  },
  {
   "cell_type": "code",
   "execution_count": null,
   "id": "96a1c21b-d779-4c7a-a33f-6b8952865885",
   "metadata": {},
   "outputs": [],
   "source": [
    "df1_count = df.groupby('DT_ACCDN').size()\n",
    "df1_count.name = 'count'\n",
    "df1_count = df1_count.rolling(7, min_periods=1).mean()"
   ]
  },
  {
   "cell_type": "code",
   "execution_count": null,
   "id": "6d1b16f5-b8dd-4460-97f2-e25ec53daf86",
   "metadata": {},
   "outputs": [],
   "source": [
    "plotly.offline.init_notebook_mode()\n",
    "\n",
    "px.line(df1_count.reset_index(), x='DT_ACCDN', y='count')"
   ]
  },
  {
   "cell_type": "markdown",
   "id": "2f0fd3ec-6a2e-49f5-9fc7-f535b322b3fa",
   "metadata": {},
   "source": [
    "### EXPORT  "
   ]
  },
  {
   "cell_type": "code",
   "execution_count": null,
   "id": "8c90bc59-c94d-487d-b9cb-6b08d20a84a6",
   "metadata": {},
   "outputs": [],
   "source": [
    "df1_count.reset_index().rename(columns={'DT_ACCDN':'Date', 'count':'Nombres'}).to_csv('rolling7_viz1_all_vehicule_date.csv', index=False)"
   ]
  },
  {
   "cell_type": "markdown",
   "id": "8c8a8083-9f93-4572-a669-29091ad6e23b",
   "metadata": {},
   "source": [
    "## Viz #2 : Est-ce que les accidents semblent diminuer à Montréal depuis l'annonce de Vision Zéro pour tous les types de véhicule"
   ]
  },
  {
   "cell_type": "code",
   "execution_count": null,
   "id": "53073156-d486-456a-8ece-c58e93f489a3",
   "metadata": {},
   "outputs": [],
   "source": [
    "df2_count = df.groupby(['TYPE_VEHICULE','DT_ACCDN']).size()\n",
    "df2_count.name = 'count'\n",
    "df2_count = df2_count.rolling(7, min_periods=1).mean()"
   ]
  },
  {
   "cell_type": "code",
   "execution_count": null,
   "id": "7369ca4d-893e-4a3e-8f38-750a80c8156d",
   "metadata": {},
   "outputs": [],
   "source": [
    "plotly.offline.init_notebook_mode()\n",
    "px.area(df2_count.reset_index(), x='DT_ACCDN', y='count', color='TYPE_VEHICULE', )"
   ]
  },
  {
   "cell_type": "markdown",
   "id": "6ac53874-e8aa-4d3c-8c2a-57a327323d98",
   "metadata": {},
   "source": [
    "### EXPORT"
   ]
  },
  {
   "cell_type": "code",
   "execution_count": null,
   "id": "7e821ef5-206d-47d6-86ea-2c72bf48cbd8",
   "metadata": {},
   "outputs": [],
   "source": [
    "df2_count.reset_index().rename(columns={'TYPE_VEHICULE':'Types', 'DT_ACCDN':'Date', 'count':'Nombres'}).to_csv('rolling7_viz2_acc_by_type_date.csv', index=False)"
   ]
  },
  {
   "cell_type": "code",
   "execution_count": null,
   "id": "1c2aa61a-0ed3-4cb5-8814-8a4e7085e4f3",
   "metadata": {},
   "outputs": [],
   "source": [
    "plotly.offline.init_notebook_mode()\n",
    "px.area(df2_count.loc['CAMION'].reset_index(), x='DT_ACCDN', y='count' )"
   ]
  },
  {
   "cell_type": "markdown",
   "id": "d1584eca-edc5-4f93-bed9-80a5a2ddc018",
   "metadata": {},
   "source": [
    "## export date-camion_count"
   ]
  },
  {
   "cell_type": "code",
   "execution_count": null,
   "id": "ae10e502-bd59-4052-91dc-8a5e96657586",
   "metadata": {},
   "outputs": [],
   "source": [
    "df2_count.loc['CAMION'].reset_index().rename(columns={'DT_ACCDN':'Date', 'count':'Nombres'}).to_csv('rolling7_viz3_acc_camion_date.csv', index=False)"
   ]
  },
  {
   "cell_type": "markdown",
   "id": "7a183d14-1b38-475b-89ff-7bd03db0486f",
   "metadata": {},
   "source": [
    "## VIZ 3 : Quel est le ratio d'accident GM avec camion par rapport à lorsque les camions sont impliqués?"
   ]
  },
  {
   "cell_type": "code",
   "execution_count": null,
   "id": "356259d7-d720-4492-be00-cf9cce424b9b",
   "metadata": {},
   "outputs": [],
   "source": [
    "df3 = df.groupby(['TYPE_VEHICULE', 'GRAVITE_SPLIT']).size()\n",
    "df3.name = 'count'\n",
    "df3 = df3.reset_index()\n",
    "df3['pourcentage'] = df3.apply(lambda row : row.loc['count'] *100 / df3[df3['TYPE_VEHICULE'] == row.loc['TYPE_VEHICULE']]['count'].sum(),\n",
    "                         axis=1)"
   ]
  },
  {
   "cell_type": "code",
   "execution_count": null,
   "id": "b4c06625",
   "metadata": {},
   "outputs": [],
   "source": [
    "df3 \\\n",
    "    .pivot(index='TYPE_VEHICULE', columns='GRAVITE_SPLIT', values='count') \\\n",
    "    .reindex(['LEGER_MATERIEL', 'GRAVE', 'MORTEL'], axis=1) \\\n",
    "    .to_csv('stackbar_count.csv')"
   ]
  },
  {
   "cell_type": "code",
   "execution_count": null,
   "id": "b379d053",
   "metadata": {},
   "outputs": [],
   "source": [
    "df3.to_csv('barchart_ratio.csv', index='False')"
   ]
  },
  {
   "cell_type": "code",
   "execution_count": null,
   "id": "5765173b",
   "metadata": {},
   "outputs": [],
   "source": []
  },
  {
   "cell_type": "code",
   "execution_count": null,
   "id": "9bf3e05a",
   "metadata": {},
   "outputs": [],
   "source": [
    "df3[df3.GRAVITE_SPLIT != 'LEGER_MATERIEL']"
   ]
  },
  {
   "cell_type": "code",
   "execution_count": null,
   "id": "1a682be6-35bb-4c49-aadf-ee596836a299",
   "metadata": {},
   "outputs": [],
   "source": [
    "plotly.offline.init_notebook_mode()\n",
    "px.bar(df3, x='TYPE_VEHICULE', y='pourcentage', color='GRAVITE_SPLIT', hover_data=['count'])"
   ]
  },
  {
   "cell_type": "markdown",
   "id": "abc8dbf6-5088-4101-81e4-4baac77ec21c",
   "metadata": {},
   "source": [
    "## VIZ 3 : CONTEXTE DES ACCIDENTS ("
   ]
  },
  {
   "cell_type": "code",
   "execution_count": null,
   "id": "58a14b03-7089-4eb7-ab3e-29246b2cdea2",
   "metadata": {},
   "outputs": [],
   "source": [
    "# Garder seulement les 20k accidents de camion et comprendre mieux les 174 qui sont graves ou mortel\n",
    "# pour CD_ENVRN_ACCDN, CD_CATEG_ROUTE, VITESSE_AUTOR"
   ]
  },
  {
   "cell_type": "code",
   "execution_count": null,
   "id": "a661b285-80f8-4c17-82c0-36a5364b38d6",
   "metadata": {},
   "outputs": [],
   "source": [
    "def viz_context(data_df, var):\n",
    "    col = ['TYPE_VEHICULE', 'GRAVITE_RENAME']\n",
    "    col.append(var)\n",
    "    df4 = data_df.groupby(col).size().loc['CAMION']\n",
    "    df4.name = 'nombre'\n",
    "    df4 = df4.reset_index()\n",
    "    df4['pourcentage'] = df4.apply(lambda row : row.loc['nombre']/ df4[df4['GRAVITE_RENAME'] == row['GRAVITE_RENAME']]['nombre'].sum(),\n",
    "                                   axis=1)\n",
    "    fig = px.bar(df4,\n",
    "        x=var,\n",
    "        y='pourcentage',\n",
    "        color='GRAVITE_RENAME',\n",
    "        barmode='group')\n",
    "    return fig\n"
   ]
  },
  {
   "cell_type": "code",
   "execution_count": null,
   "id": "4f7ce5db-adb1-40ae-819a-7c66b7fc0a6d",
   "metadata": {},
   "outputs": [],
   "source": [
    "plotly.offline.init_notebook_mode()\n",
    "viz_context(df, 'CD_ENVRN_ACCDN')"
   ]
  },
  {
   "cell_type": "code",
   "execution_count": null,
   "id": "59279dc2-5700-43b7-a820-28de9264824c",
   "metadata": {},
   "outputs": [],
   "source": [
    "plotly.offline.init_notebook_mode()\n",
    "viz_context(df, 'CD_CATEG_ROUTE')"
   ]
  },
  {
   "cell_type": "code",
   "execution_count": null,
   "id": "b1a1bfca-71bc-431d-8594-b75ad8bfe374",
   "metadata": {},
   "outputs": [],
   "source": [
    "plotly.offline.init_notebook_mode()\n",
    "viz_context(df, 'VITESSE_AUTOR')"
   ]
  },
  {
   "cell_type": "markdown",
   "id": "9ef3da03-2cb5-4e75-b290-018920fb9303",
   "metadata": {},
   "source": [
    "### TEST PARRALLE LEGISLATIF"
   ]
  },
  {
   "cell_type": "code",
   "execution_count": null,
   "id": "1ddf166b-9554-492a-a406-85d8286276fb",
   "metadata": {},
   "outputs": [],
   "source": [
    "plotly.offline.init_notebook_mode()\n",
    "col5 = ['TYPE_VEHICULE', 'GRAVITE_RENAME', 'CD_ENVRN_ACCDN', 'CD_CATEG_ROUTE', 'VITESSE_AUTOR']\n",
    "df5 = df.groupby(col5).size()\n",
    "df5.name = 'count'\n",
    "df5 = df5.loc['CAMION']\n",
    "px.parallel_categories(df5.reset_index())"
   ]
  },
  {
   "cell_type": "markdown",
   "id": "62c218a5-aa37-41b5-a371-425e41a20a79",
   "metadata": {
    "tags": []
   },
   "source": [
    "### EXPORT"
   ]
  },
  {
   "cell_type": "markdown",
   "id": "ae2320e8-3fce-462c-b939-b212d8548314",
   "metadata": {},
   "source": [
    "#### Rename before export"
   ]
  },
  {
   "cell_type": "code",
   "execution_count": null,
   "id": "14800765-d21a-49e0-a4a9-ae4fb454adcd",
   "metadata": {},
   "outputs": [],
   "source": [
    "df5_export = df5.reset_index().rename(columns={\"GRAVITE_RENAME\":\"Gravite\",\n",
    "                                  \"CD_ENVRN_ACCDN\": \"Environnement\",\n",
    "                                  \"CD_CATEG_ROUTE\" : \"Route\",\n",
    "                                  \"VITESSE_AUTOR\" : \"Vitesse\"})\n",
    "\n",
    "\n",
    "df5_export['Gravite'] = df5_export.loc[:,'Gravite'].replace({\n",
    "    'GRAVE_MORTEL': 'Grave ou Mortel',\n",
    "    'LEGER_MATERIEL' : 'Dommage matériel ou Léger'})\n",
    "\n",
    "\n",
    "df5_export['Environnement'] = df5_export.loc[:,'Environnement'].replace({1.0:'Scolaire',\n",
    "                                                                        2.0: 'Residentiel',\n",
    "                                                                        3.0: 'Commercial',\n",
    "                                                                        4.0: 'Industriel',\n",
    "                                                                        5.0: 'Rural',\n",
    "                                                                        6.0: 'Forestier',\n",
    "                                                                        7.0: 'Recreatif',\n",
    "                                                                        9.0: 'Autre',\n",
    "                                                                        0.0: 'ND'})\n",
    "\n",
    "df5_export['Route'] = df5_export.loc[:,'Route'].replace({11.0:'Chemin public: bretelle/collecteur d’autoroute/voie de service',\n",
    "                                                         12.0: 'Chemin public: route numérotée',\n",
    "                                                         13.0: 'Chemin public: artère principale',\n",
    "                                                         14.0: 'Chemin public: rue résidentielle',\n",
    "                                                         15.0: 'Chemin public: chemin/rang',\n",
    "                                                         16.0: 'Chemin public: ruelle',\n",
    "                                                         19.0: 'Chemin public: autre',\n",
    "                                                         21.0: 'Hors chemin public: terrain de stationnement',\n",
    "                                                         22.0: 'Hors chemin public: terrain privé',\n",
    "                                                         23.0: 'Hors chemin public: chemin privé',\n",
    "                                                         24.0: 'Hors chemin public: chemin forestier',\n",
    "                                                         25.0: 'Hors chemin public: sentier balisé',\n",
    "                                                         29.0: 'Hors chemin public: autre'})\n",
    "\n",
    "df5_export['Vitesse'] = df5_export.loc[:,'Vitesse'].apply(lambda x : str(int(x)) + ' Km/h')\n"
   ]
  },
  {
   "cell_type": "code",
   "execution_count": null,
   "id": "55fd7667-15ba-4757-a875-767492eb63c2",
   "metadata": {},
   "outputs": [],
   "source": [
    "df5_export.head()"
   ]
  },
  {
   "cell_type": "code",
   "execution_count": null,
   "id": "f77ae64b-a381-4f2b-a9f2-0282c5ab0e71",
   "metadata": {},
   "outputs": [],
   "source": [
    "df5_export.to_csv('pset_env_route_vit.csv', index=False)"
   ]
  },
  {
   "cell_type": "code",
   "execution_count": null,
   "id": "935aa795-4eb1-4ad6-bfa7-b7565d6de751",
   "metadata": {},
   "outputs": [],
   "source": [
    "plotly.offline.init_notebook_mode()\n",
    "col6 = ['TYPE_VEHICULE', 'GRAVITE_RENAME', 'CD_CONFG_ROUTE', 'CD_ASPCT_ROUTE']\n",
    "df6 = df.groupby(col6).size()\n",
    "df6.name = 'count'\n",
    "df6pp = df6.loc['CAMION'].loc['GRAVE_MORTEL'].reset_index()\n",
    "px.parallel_categories(df6pp.iloc[:, 0:3])"
   ]
  },
  {
   "cell_type": "markdown",
   "id": "8cc66a0c-4dd6-42f1-a1a6-c3c9c2a810a6",
   "metadata": {},
   "source": [
    "### Export viz 6"
   ]
  },
  {
   "cell_type": "code",
   "execution_count": null,
   "id": "3e17154f-2d8b-4055-a914-d4fe88862db9",
   "metadata": {},
   "outputs": [],
   "source": [
    "df6_export = df6.reset_index().rename(columns={\"GRAVITE_RENAME\":\"Gravite\",\n",
    "                                  \"CD_CONFG_ROUTE\": \"Configuration\",\n",
    "                                  \"CD_ASPCT_ROUTE\" : \"Aspect route\"})\n",
    "\n",
    "\n",
    "df6_export['Gravite'] = df6_export.loc[:,'Gravite'].replace({\n",
    "    'GRAVE_MORTEL': 'Grave ou Mortel',\n",
    "    'LEGER_MATERIEL' : 'Dommage matériel ou Léger'})\n",
    "\n",
    "\n",
    "df6_export['Configuration'] = df6_export.loc[:,'Configuration'].replace({1.0:'Sens unique',\n",
    "                                                                        2.0: 'une voie par direction',\n",
    "                                                                        3.0: 'plus d’une voie par direction',\n",
    "                                                                        4.0: 'Séparée par aménagement franchissable',\n",
    "                                                                        5.0: 'Séparée par aménagement infranchissable',\n",
    "                                                                        9.0: 'Autre'\n",
    "                                                                        })\n",
    "\n",
    "df6_export['Aspect route'] = df6_export.loc[:,'Aspect route'].replace({11.0:'Droit, plat',\n",
    "                                                         12.0: 'Droit, en haut de la pente',\n",
    "                                                         13.0: 'Droit, dans la pente',\n",
    "                                                         14.0: 'Droit, en bas de la pente (creux)',\n",
    "                                                         21.0: 'Courbe, plat',\n",
    "                                                         22.0: 'Courbe, en haut de la pente',\n",
    "                                                         23.0: 'Courbe, dans la pente',\n",
    "                                                         24.0: 'Courbe, en bas de la pente (creux)'})"
   ]
  },
  {
   "cell_type": "code",
   "execution_count": null,
   "id": "a98baf7e-6fa1-43d7-bea7-cca90b1f48de",
   "metadata": {},
   "outputs": [],
   "source": [
    "df6_export[df6_export['TYPE_VEHICULE'] == 'CAMION'].iloc[:,1:].to_csv('pset_conf_aspect_vit.csv', index=False)"
   ]
  },
  {
   "cell_type": "code",
   "execution_count": null,
   "id": "4d4afcc3-774b-45da-b25e-86473e887f15",
   "metadata": {},
   "outputs": [],
   "source": [
    "plotly.offline.init_notebook_mode()\n",
    "col7 = ['TYPE_VEHICULE', 'GRAVITE_RENAME', 'CD_COND_METEO', 'CD_ETAT_SURFC', 'CD_ETAT_CHASS', 'CD_ECLRM']\n",
    "df7 = df.groupby(col7).size()\n",
    "df7.name = 'count'\n",
    "df7pp = df7.loc['CAMION'].loc['GRAVE_MORTEL'].reset_index()\n",
    "px.parallel_categories(df7pp.iloc[:,:-1])"
   ]
  },
  {
   "cell_type": "code",
   "execution_count": null,
   "id": "e8411441-edba-423b-a5be-acf6ef53dffa",
   "metadata": {},
   "outputs": [],
   "source": [
    "df7_export = df7.reset_index().rename(columns={\"GRAVITE_RENAME\":\"Gravite\",\n",
    "                                  \"CD_COND_METEO\": \"Meteo\",\n",
    "                                  \"CD_ETAT_SURFC\" : \"Etat Surface\",\n",
    "                                  \"CD_ETAT_CHASS\" : \"Etat Chaussee\",\n",
    "                                \"CD_ECLRM\" : \"Eclairage\"})\n",
    "\n",
    "\n",
    "df7_export['Gravite'] = df7_export.loc[:,'Gravite'].replace({\n",
    "    'GRAVE_MORTEL': 'Grave ou Mortel',\n",
    "    'LEGER_MATERIEL' : 'Dommage matériel ou Léger'})\n",
    "\n",
    "\n",
    "df7_export['Meteo'] = df7_export.loc[:,'Meteo'].replace({11.0:'Clair',\n",
    "                                                         12.0: 'Couvert (nuageux/sombre)',\n",
    "                                                         13.0: 'Brouillard/brume',\n",
    "                                                         14.0: 'Pluie/bruine',\n",
    "                                                         15.0: 'Averse (pluie forte)',\n",
    "                                                         16.0: 'Vent fort (pas de poudrerie, pas de pluie)',\n",
    "                                                         17.0: 'Neige/grêle',\n",
    "                                                         18.0: 'Poudrerie/tempête de neige',\n",
    "                                                         19.0: 'Verglas',\n",
    "                                                         99.0: 'Autre'})\n",
    "\n",
    "df7_export['Etat Chaussee'] = df7_export.loc[:,'Etat Chaussee'].replace({1:'En bon état',\n",
    "                                                         2: 'En construction/en réparation',\n",
    "                                                         3: 'Ornières/affaissement',\n",
    "                                                         4: 'Fissures importantes',\n",
    "                                                         5: 'Trous/nids-de-poule/cahots',\n",
    "                                                         6: 'Dénivellation',\n",
    "                                                         9: 'Autre',\n",
    "                                                         0: 'Non précisé'})\n",
    "\n",
    "df7_export['Etat Surface'] = df7_export.loc[:,'Etat Surface'].replace({11.0:'Sèche',\n",
    "                                                         12.0: 'Mouillée',\n",
    "                                                         13.0: 'Accumulation d’eau (aquaplanage)',\n",
    "                                                         14.0: 'Sable, gravier sur la chaussée',\n",
    "                                                         15.0: 'Gadoue/neige fondante',\n",
    "                                                         16.0: 'Enneigée',\n",
    "                                                         17.0: 'Neige durcie',\n",
    "                                                         18.0: 'Glacée',\n",
    "                                                         19.0: 'Boueuse',\n",
    "                                                         20.0: 'Huileuse',\n",
    "                                                         99.0: 'Autre'})\n",
    "\n",
    "df7_export['Eclairage'] = df7_export.loc[:,'Eclairage'].replace({1:'Jour et demi-obscurité',\n",
    "                                                         2: 'Jour et demi-obscurité',\n",
    "                                                         3: 'Nuit et chemin éclairé',\n",
    "                                                         4: 'Nuit et chemin non éclairé'})"
   ]
  },
  {
   "cell_type": "code",
   "execution_count": null,
   "id": "14de7973-ed4c-4d05-9550-359590e444f5",
   "metadata": {},
   "outputs": [],
   "source": [
    "df7_export[df7_export['TYPE_VEHICULE'] == 'CAMION'].iloc[:,1:].to_csv('pset_cond_ext.csv', index=False)"
   ]
  },
  {
   "cell_type": "code",
   "execution_count": null,
   "id": "c9e615ea",
   "metadata": {},
   "outputs": [],
   "source": [
    "df7_export['Etat Surface'].value_counts()"
   ]
  },
  {
   "cell_type": "code",
   "execution_count": null,
   "id": "5bccf3fc",
   "metadata": {},
   "outputs": [],
   "source": []
  },
  {
   "cell_type": "code",
   "execution_count": null,
   "id": "81cdd0ae",
   "metadata": {},
   "outputs": [],
   "source": []
  }
 ],
 "metadata": {
  "kernelspec": {
   "display_name": "Python 3 (ipykernel)",
   "language": "python",
   "name": "python3"
  },
  "language_info": {
   "codemirror_mode": {
    "name": "ipython",
    "version": 3
   },
   "file_extension": ".py",
   "mimetype": "text/x-python",
   "name": "python",
   "nbconvert_exporter": "python",
   "pygments_lexer": "ipython3",
   "version": "3.8.10"
  }
 },
 "nbformat": 4,
 "nbformat_minor": 5
}
