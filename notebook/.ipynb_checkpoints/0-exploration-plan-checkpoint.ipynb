{
 "cells": [
  {
   "cell_type": "code",
   "execution_count": 1,
   "id": "56cc5161-1ed2-425f-b9c7-ddb2a53de29d",
   "metadata": {},
   "outputs": [],
   "source": [
    "import pandas as pd\n"
   ]
  },
  {
   "cell_type": "code",
   "execution_count": 2,
   "id": "b8c9d27a-f155-4fcc-a188-6bb1cee7feba",
   "metadata": {},
   "outputs": [],
   "source": [
    "df = pd.read_csv(\"collisions_routieres.csv\")"
   ]
  },
  {
   "cell_type": "code",
   "execution_count": 3,
   "id": "ac4b4e99-a0f0-4349-8ce2-11f947a09df6",
   "metadata": {},
   "outputs": [
    {
     "data": {
      "text/html": [
       "<div>\n",
       "<style scoped>\n",
       "    .dataframe tbody tr th:only-of-type {\n",
       "        vertical-align: middle;\n",
       "    }\n",
       "\n",
       "    .dataframe tbody tr th {\n",
       "        vertical-align: top;\n",
       "    }\n",
       "\n",
       "    .dataframe thead th {\n",
       "        text-align: right;\n",
       "    }\n",
       "</style>\n",
       "<table border=\"1\" class=\"dataframe\">\n",
       "  <thead>\n",
       "    <tr style=\"text-align: right;\">\n",
       "      <th></th>\n",
       "      <th>NO_SEQ_COLL</th>\n",
       "      <th>JR_SEMN_ACCDN</th>\n",
       "      <th>DT_ACCDN</th>\n",
       "      <th>CD_MUNCP</th>\n",
       "      <th>NO_CIVIQ_ACCDN</th>\n",
       "      <th>SFX_NO_CIVIQ_ACCDN</th>\n",
       "      <th>BORNE_KM_ACCDN</th>\n",
       "      <th>RUE_ACCDN</th>\n",
       "      <th>TP_REPRR_ACCDN</th>\n",
       "      <th>ACCDN_PRES_DE</th>\n",
       "      <th>...</th>\n",
       "      <th>NB_VICTIMES_VELO</th>\n",
       "      <th>VITESSE_AUTOR</th>\n",
       "      <th>LOC_X</th>\n",
       "      <th>LOC_Y</th>\n",
       "      <th>LOC_COTE_QD</th>\n",
       "      <th>LOC_COTE_PD</th>\n",
       "      <th>LOC_DETACHEE</th>\n",
       "      <th>LOC_IMPRECISION</th>\n",
       "      <th>LOC_LONG</th>\n",
       "      <th>LOC_LAT</th>\n",
       "    </tr>\n",
       "  </thead>\n",
       "  <tbody>\n",
       "    <tr>\n",
       "      <th>0</th>\n",
       "      <td>SPVM _ 2012 _ 1</td>\n",
       "      <td>ME</td>\n",
       "      <td>2012/02/01</td>\n",
       "      <td>66102.0</td>\n",
       "      <td>3501.0</td>\n",
       "      <td>NaN</td>\n",
       "      <td>NaN</td>\n",
       "      <td>ST CHARLES</td>\n",
       "      <td>2.0</td>\n",
       "      <td>STAT</td>\n",
       "      <td>...</td>\n",
       "      <td>0</td>\n",
       "      <td>NaN</td>\n",
       "      <td>276517.37950</td>\n",
       "      <td>5.035127e+06</td>\n",
       "      <td>A</td>\n",
       "      <td>3</td>\n",
       "      <td>O</td>\n",
       "      <td>N</td>\n",
       "      <td>-73.861616</td>\n",
       "      <td>45.455505</td>\n",
       "    </tr>\n",
       "    <tr>\n",
       "      <th>1</th>\n",
       "      <td>SPVM _ 2012 _ 10</td>\n",
       "      <td>MA</td>\n",
       "      <td>2012/01/03</td>\n",
       "      <td>66023.0</td>\n",
       "      <td>NaN</td>\n",
       "      <td>NaN</td>\n",
       "      <td>NaN</td>\n",
       "      <td>TERR VILLE DE MTL</td>\n",
       "      <td>NaN</td>\n",
       "      <td>NaN</td>\n",
       "      <td>...</td>\n",
       "      <td>0</td>\n",
       "      <td>NaN</td>\n",
       "      <td>275209.46185</td>\n",
       "      <td>5.038619e+06</td>\n",
       "      <td>B</td>\n",
       "      <td>4</td>\n",
       "      <td>N</td>\n",
       "      <td>N</td>\n",
       "      <td>-73.878549</td>\n",
       "      <td>45.486871</td>\n",
       "    </tr>\n",
       "    <tr>\n",
       "      <th>2</th>\n",
       "      <td>SPVM _ 2012 _ 100</td>\n",
       "      <td>VE</td>\n",
       "      <td>2012/02/24</td>\n",
       "      <td>66023.0</td>\n",
       "      <td>NaN</td>\n",
       "      <td>NaN</td>\n",
       "      <td>NaN</td>\n",
       "      <td>JACQUES BIZARD</td>\n",
       "      <td>1.0</td>\n",
       "      <td>CHERRIER</td>\n",
       "      <td>...</td>\n",
       "      <td>0</td>\n",
       "      <td>50.0</td>\n",
       "      <td>275759.07900</td>\n",
       "      <td>5.039027e+06</td>\n",
       "      <td>A</td>\n",
       "      <td>1</td>\n",
       "      <td>N</td>\n",
       "      <td>O</td>\n",
       "      <td>-73.871542</td>\n",
       "      <td>45.490564</td>\n",
       "    </tr>\n",
       "    <tr>\n",
       "      <th>3</th>\n",
       "      <td>SPVM _ 2012 _ 1000</td>\n",
       "      <td>JE</td>\n",
       "      <td>2012/10/11</td>\n",
       "      <td>66142.0</td>\n",
       "      <td>11800.0</td>\n",
       "      <td>NaN</td>\n",
       "      <td>NaN</td>\n",
       "      <td>BD SALABERRY</td>\n",
       "      <td>NaN</td>\n",
       "      <td>NaN</td>\n",
       "      <td>...</td>\n",
       "      <td>0</td>\n",
       "      <td>NaN</td>\n",
       "      <td>280970.09315</td>\n",
       "      <td>5.038348e+06</td>\n",
       "      <td>A</td>\n",
       "      <td>1</td>\n",
       "      <td>O</td>\n",
       "      <td>N</td>\n",
       "      <td>-73.804841</td>\n",
       "      <td>45.484648</td>\n",
       "    </tr>\n",
       "    <tr>\n",
       "      <th>4</th>\n",
       "      <td>SPVM _ 2012 _ 10000</td>\n",
       "      <td>DI</td>\n",
       "      <td>2012/04/22</td>\n",
       "      <td>66023.0</td>\n",
       "      <td>38.0</td>\n",
       "      <td>NaN</td>\n",
       "      <td>NaN</td>\n",
       "      <td>PL DU COMMERCE</td>\n",
       "      <td>NaN</td>\n",
       "      <td>NaN</td>\n",
       "      <td>...</td>\n",
       "      <td>0</td>\n",
       "      <td>NaN</td>\n",
       "      <td>301391.47638</td>\n",
       "      <td>5.036357e+06</td>\n",
       "      <td>A</td>\n",
       "      <td>1</td>\n",
       "      <td>O</td>\n",
       "      <td>N</td>\n",
       "      <td>-73.543590</td>\n",
       "      <td>45.467136</td>\n",
       "    </tr>\n",
       "  </tbody>\n",
       "</table>\n",
       "<p>5 rows × 68 columns</p>\n",
       "</div>"
      ],
      "text/plain": [
       "           NO_SEQ_COLL JR_SEMN_ACCDN    DT_ACCDN  CD_MUNCP  NO_CIVIQ_ACCDN  \\\n",
       "0      SPVM _ 2012 _ 1            ME  2012/02/01   66102.0          3501.0   \n",
       "1     SPVM _ 2012 _ 10            MA  2012/01/03   66023.0             NaN   \n",
       "2    SPVM _ 2012 _ 100            VE  2012/02/24   66023.0             NaN   \n",
       "3   SPVM _ 2012 _ 1000            JE  2012/10/11   66142.0         11800.0   \n",
       "4  SPVM _ 2012 _ 10000            DI  2012/04/22   66023.0            38.0   \n",
       "\n",
       "  SFX_NO_CIVIQ_ACCDN  BORNE_KM_ACCDN          RUE_ACCDN  TP_REPRR_ACCDN  \\\n",
       "0                NaN             NaN         ST CHARLES             2.0   \n",
       "1                NaN             NaN  TERR VILLE DE MTL             NaN   \n",
       "2                NaN             NaN     JACQUES BIZARD             1.0   \n",
       "3                NaN             NaN       BD SALABERRY             NaN   \n",
       "4                NaN             NaN     PL DU COMMERCE             NaN   \n",
       "\n",
       "  ACCDN_PRES_DE  ...  NB_VICTIMES_VELO  VITESSE_AUTOR         LOC_X  \\\n",
       "0          STAT  ...                 0            NaN  276517.37950   \n",
       "1           NaN  ...                 0            NaN  275209.46185   \n",
       "2      CHERRIER  ...                 0           50.0  275759.07900   \n",
       "3           NaN  ...                 0            NaN  280970.09315   \n",
       "4           NaN  ...                 0            NaN  301391.47638   \n",
       "\n",
       "          LOC_Y  LOC_COTE_QD  LOC_COTE_PD  LOC_DETACHEE  LOC_IMPRECISION  \\\n",
       "0  5.035127e+06            A            3             O                N   \n",
       "1  5.038619e+06            B            4             N                N   \n",
       "2  5.039027e+06            A            1             N                O   \n",
       "3  5.038348e+06            A            1             O                N   \n",
       "4  5.036357e+06            A            1             O                N   \n",
       "\n",
       "    LOC_LONG    LOC_LAT  \n",
       "0 -73.861616  45.455505  \n",
       "1 -73.878549  45.486871  \n",
       "2 -73.871542  45.490564  \n",
       "3 -73.804841  45.484648  \n",
       "4 -73.543590  45.467136  \n",
       "\n",
       "[5 rows x 68 columns]"
      ]
     },
     "execution_count": 3,
     "metadata": {},
     "output_type": "execute_result"
    }
   ],
   "source": [
    "df.head()"
   ]
  },
  {
   "cell_type": "code",
   "execution_count": 4,
   "id": "e7f3ab2c-592f-468c-bba6-9ac7c9380d90",
   "metadata": {},
   "outputs": [
    {
     "data": {
      "text/plain": [
       "Index(['NO_SEQ_COLL', 'JR_SEMN_ACCDN', 'DT_ACCDN', 'CD_MUNCP',\n",
       "       'NO_CIVIQ_ACCDN', 'SFX_NO_CIVIQ_ACCDN', 'BORNE_KM_ACCDN', 'RUE_ACCDN',\n",
       "       'TP_REPRR_ACCDN', 'ACCDN_PRES_DE', 'NB_METRE_DIST_ACCD',\n",
       "       'CD_GENRE_ACCDN', 'CD_SIT_PRTCE_ACCDN', 'CD_ETAT_SURFC', 'CD_ECLRM',\n",
       "       'CD_ENVRN_ACCDN', 'NO_ROUTE', 'CD_CATEG_ROUTE', 'CD_ETAT_CHASS',\n",
       "       'CD_ASPCT_ROUTE', 'CD_LOCLN_ACCDN', 'CD_POSI_ACCDN', 'CD_CONFG_ROUTE',\n",
       "       'CD_ZON_TRAVX_ROUTR', 'CD_PNT_CDRNL_ROUTE', 'CD_PNT_CDRNL_REPRR',\n",
       "       'CD_COND_METEO', 'NB_VEH_IMPLIQUES_ACCDN', 'NB_MORTS',\n",
       "       'NB_BLESSES_GRAVES', 'NB_BLESSES_LEGERS', 'HEURE_ACCDN', 'AN',\n",
       "       'NB_VICTIMES_TOTAL', 'GRAVITE', 'REG_ADM', 'MRC',\n",
       "       'nb_automobile_camion_leger', 'nb_camionLourd_tractRoutier',\n",
       "       'nb_outil_equipement', 'nb_tous_autobus_minibus', 'nb_bicyclette',\n",
       "       'nb_cyclomoteur', 'nb_motocyclette', 'nb_taxi', 'nb_urgence',\n",
       "       'nb_motoneige', 'nb_VHR', 'nb_autres_types', 'nb_veh_non_precise',\n",
       "       'NB_DECES_PIETON', 'NB_BLESSES_PIETON', 'NB_VICTIMES_PIETON',\n",
       "       'NB_DECES_MOTO', 'NB_BLESSES_MOTO', 'NB_VICTIMES_MOTO', 'NB_DECES_VELO',\n",
       "       'NB_BLESSES_VELO', 'NB_VICTIMES_VELO', 'VITESSE_AUTOR', 'LOC_X',\n",
       "       'LOC_Y', 'LOC_COTE_QD', 'LOC_COTE_PD', 'LOC_DETACHEE',\n",
       "       'LOC_IMPRECISION', 'LOC_LONG', 'LOC_LAT'],\n",
       "      dtype='object')"
      ]
     },
     "execution_count": 4,
     "metadata": {},
     "output_type": "execute_result"
    }
   ],
   "source": [
    "df.columns"
   ]
  },
  {
   "cell_type": "code",
   "execution_count": 5,
   "id": "3ec8631d-d055-4d53-89b1-553e59178672",
   "metadata": {},
   "outputs": [
    {
     "data": {
      "text/plain": [
       "dtype('int64')"
      ]
     },
     "execution_count": 5,
     "metadata": {},
     "output_type": "execute_result"
    }
   ],
   "source": [
    "df.AN.dtype"
   ]
  },
  {
   "cell_type": "markdown",
   "id": "a9e37221-9a75-424c-8cdd-c825c0ba4d08",
   "metadata": {},
   "source": [
    "# Describe for each variable"
   ]
  },
  {
   "cell_type": "code",
   "execution_count": 6,
   "id": "be8f450f-2b60-4432-9dd8-3f7fa036ceb7",
   "metadata": {},
   "outputs": [
    {
     "data": {
      "text/plain": [
       "(204010, 68)"
      ]
     },
     "execution_count": 6,
     "metadata": {},
     "output_type": "execute_result"
    }
   ],
   "source": [
    "df.shape"
   ]
  },
  {
   "cell_type": "markdown",
   "id": "fcd6fcf4-e4fc-4586-8d45-77cbd5df930c",
   "metadata": {
    "tags": []
   },
   "source": [
    "### AN (DATE)"
   ]
  },
  {
   "cell_type": "code",
   "execution_count": 7,
   "id": "f9a649b4-b283-4b70-a21c-479e46b31553",
   "metadata": {},
   "outputs": [
    {
     "data": {
      "text/plain": [
       "2012    31652\n",
       "2013    31607\n",
       "2017    22058\n",
       "2016    21673\n",
       "2015    21574\n",
       "2018    21447\n",
       "2014    21402\n",
       "2019    19327\n",
       "2020    13270\n",
       "Name: AN, dtype: int64"
      ]
     },
     "execution_count": 7,
     "metadata": {},
     "output_type": "execute_result"
    }
   ],
   "source": [
    "df.AN.value_counts()"
   ]
  },
  {
   "cell_type": "markdown",
   "id": "3976079e-3d8c-48a4-a21c-8ae86987b1a5",
   "metadata": {},
   "source": [
    "### NO_SEQ_COLL (ID)"
   ]
  },
  {
   "cell_type": "markdown",
   "id": "96ba6eef-5c0b-48ea-adeb-669cc0090737",
   "metadata": {},
   "source": [
    "### DT_ACCDN"
   ]
  },
  {
   "cell_type": "code",
   "execution_count": 8,
   "id": "c9f4652f-3899-4aa3-bf3b-0871dad8ef89",
   "metadata": {},
   "outputs": [],
   "source": [
    "df.DT_ACCDN = pd.to_datetime(df.DT_ACCDN)"
   ]
  },
  {
   "cell_type": "code",
   "execution_count": 9,
   "id": "db8c0643-6217-4503-aea3-61d37942a088",
   "metadata": {},
   "outputs": [
    {
     "data": {
      "text/plain": [
       "3206     2012-01-01\n",
       "15702    2012-01-01\n",
       "15713    2012-01-01\n",
       "19743    2012-01-01\n",
       "15724    2012-01-01\n",
       "            ...    \n",
       "195547   2020-12-31\n",
       "202148   2020-12-31\n",
       "193719   2020-12-31\n",
       "196812   2020-12-31\n",
       "200503   2020-12-31\n",
       "Name: DT_ACCDN, Length: 204010, dtype: datetime64[ns]"
      ]
     },
     "execution_count": 9,
     "metadata": {},
     "output_type": "execute_result"
    }
   ],
   "source": [
    "df.DT_ACCDN.sort_values()"
   ]
  },
  {
   "cell_type": "markdown",
   "id": "a392456c-8eb9-4f82-86a6-b5b0ae40d604",
   "metadata": {},
   "source": [
    "### HR_ACCDN"
   ]
  },
  {
   "cell_type": "code",
   "execution_count": 10,
   "id": "9ae12ff7-313c-4211-94c1-d4b2856573c2",
   "metadata": {},
   "outputs": [
    {
     "data": {
      "text/plain": [
       "Non précisé          17235\n",
       "16:00:00-16:59:00    14458\n",
       "15:00:00-15:59:00    14015\n",
       "17:00:00-17:59:00    13603\n",
       "14:00:00-14:59:00    12189\n",
       "13:00:00-13:59:00    11333\n",
       "12:00:00-12:59:00    11183\n",
       "08:00:00-08:59:00    10842\n",
       "18:00:00-18:59:00    10248\n",
       "11:00:00-11:59:00    10042\n",
       "10:00:00-10:59:00     9652\n",
       "09:00:00-09:59:00     9546\n",
       "19:00:00-19:59:00     7704\n",
       "07:00:00-07:59:00     7683\n",
       "20:00:00-20:59:00     6792\n",
       "21:00:00-21:59:00     6386\n",
       "22:00:00-22:59:00     5499\n",
       "23:00:00-23:59:00     4869\n",
       "00:00:00-00:59:00     3996\n",
       "06:00:00-06:59:00     3819\n",
       "03:00:00-03:59:00     3437\n",
       "01:00:00-01:59:00     2735\n",
       "02:00:00-02:59:00     2515\n",
       "04:00:00-04:59:00     2135\n",
       "05:00:00-05:59:00     2094\n",
       "Name: HEURE_ACCDN, dtype: int64"
      ]
     },
     "execution_count": 10,
     "metadata": {},
     "output_type": "execute_result"
    }
   ],
   "source": [
    "df.HEURE_ACCDN.value_counts()"
   ]
  },
  {
   "cell_type": "markdown",
   "id": "8fe8d0ae-f5a6-45bb-b1cf-1c067ce336f8",
   "metadata": {},
   "source": [
    "### JR_SEMN_ACCDN"
   ]
  },
  {
   "cell_type": "code",
   "execution_count": 11,
   "id": "57237171-37a1-440f-954d-569b839ae2cb",
   "metadata": {},
   "outputs": [
    {
     "data": {
      "text/plain": [
       "VE    32961\n",
       "JE    32715\n",
       "ME    30856\n",
       "MA    30753\n",
       "LU    28338\n",
       "SA    26243\n",
       "DI    22144\n",
       "Name: JR_SEMN_ACCDN, dtype: int64"
      ]
     },
     "execution_count": 11,
     "metadata": {},
     "output_type": "execute_result"
    }
   ],
   "source": [
    "df.JR_SEMN_ACCDN.value_counts()"
   ]
  },
  {
   "cell_type": "markdown",
   "id": "75b1ff8a-0d43-4b50-809d-6ebb31fe9f3b",
   "metadata": {},
   "source": [
    "### GRAVITÉ"
   ]
  },
  {
   "cell_type": "code",
   "execution_count": 12,
   "id": "f10238c2-1398-465b-a1d7-e6988ed1bc62",
   "metadata": {},
   "outputs": [
    {
     "data": {
      "text/plain": [
       "Dommages matériels inférieurs au seuil de rapportage    82707\n",
       "Dommages matériels seulement                            77522\n",
       "Léger                                                   41864\n",
       "Grave                                                    1680\n",
       "Mortel                                                    237\n",
       "Name: GRAVITE, dtype: int64"
      ]
     },
     "execution_count": 12,
     "metadata": {},
     "output_type": "execute_result"
    }
   ],
   "source": [
    "df.GRAVITE.value_counts()"
   ]
  },
  {
   "cell_type": "markdown",
   "id": "d3431782-a126-424b-a08b-4ec6c418c3e7",
   "metadata": {},
   "source": [
    "### NB_MORTS"
   ]
  },
  {
   "cell_type": "code",
   "execution_count": 13,
   "id": "d07480e4-f66d-4ebc-a5b9-abf6fb89f0f1",
   "metadata": {},
   "outputs": [
    {
     "data": {
      "text/plain": [
       "0.001191118082446939"
      ]
     },
     "execution_count": 13,
     "metadata": {},
     "output_type": "execute_result"
    }
   ],
   "source": [
    "df.NB_MORTS.mean()"
   ]
  },
  {
   "cell_type": "code",
   "execution_count": 14,
   "id": "da8868bd-aa86-4f77-8ecb-dcda11c047be",
   "metadata": {},
   "outputs": [
    {
     "data": {
      "text/plain": [
       "0    203773\n",
       "1       231\n",
       "2         6\n",
       "Name: NB_MORTS, dtype: int64"
      ]
     },
     "execution_count": 14,
     "metadata": {},
     "output_type": "execute_result"
    }
   ],
   "source": [
    "df.NB_MORTS.value_counts()"
   ]
  },
  {
   "cell_type": "markdown",
   "id": "144b3441-58e5-471e-b4cb-6295eb90cab6",
   "metadata": {},
   "source": [
    "### NB_BLESSES_GRAVES"
   ]
  },
  {
   "cell_type": "code",
   "execution_count": 15,
   "id": "058bdc5f-1cb1-4e8b-9848-e75eb656f1c0",
   "metadata": {},
   "outputs": [
    {
     "data": {
      "text/plain": [
       "0.0089211313170923"
      ]
     },
     "execution_count": 15,
     "metadata": {},
     "output_type": "execute_result"
    }
   ],
   "source": [
    "df.NB_BLESSES_GRAVES.mean()"
   ]
  },
  {
   "cell_type": "code",
   "execution_count": 16,
   "id": "714e86d4-3883-49b9-9a1f-92b5b3a8c812",
   "metadata": {},
   "outputs": [
    {
     "data": {
      "text/plain": [
       "0    202313\n",
       "1      1595\n",
       "2        84\n",
       "3        15\n",
       "4         3\n",
       "Name: NB_BLESSES_GRAVES, dtype: int64"
      ]
     },
     "execution_count": 16,
     "metadata": {},
     "output_type": "execute_result"
    }
   ],
   "source": [
    "df.NB_BLESSES_GRAVES.value_counts()"
   ]
  },
  {
   "cell_type": "markdown",
   "id": "1d6e9513-0e96-4e5c-90b2-0623fc35e16c",
   "metadata": {},
   "source": [
    "### NB_BLESSES_LEGERS\n"
   ]
  },
  {
   "cell_type": "code",
   "execution_count": 17,
   "id": "c66dc612-1182-4261-bce5-9051f9a91433",
   "metadata": {},
   "outputs": [
    {
     "data": {
      "text/plain": [
       "0.254134601245037"
      ]
     },
     "execution_count": 17,
     "metadata": {},
     "output_type": "execute_result"
    }
   ],
   "source": [
    "df.NB_BLESSES_LEGERS.mean()"
   ]
  },
  {
   "cell_type": "code",
   "execution_count": 18,
   "id": "f8b40dca-3812-4a0b-ab07-648070aea5c5",
   "metadata": {},
   "outputs": [
    {
     "data": {
      "text/plain": [
       "0     161853\n",
       "1      34910\n",
       "2       5546\n",
       "3       1223\n",
       "4        327\n",
       "5         97\n",
       "6         36\n",
       "8          6\n",
       "7          6\n",
       "9          3\n",
       "11         1\n",
       "14         1\n",
       "24         1\n",
       "Name: NB_BLESSES_LEGERS, dtype: int64"
      ]
     },
     "execution_count": 18,
     "metadata": {},
     "output_type": "execute_result"
    }
   ],
   "source": [
    "df.NB_BLESSES_LEGERS.value_counts()"
   ]
  },
  {
   "cell_type": "markdown",
   "id": "524653a6-0366-4b3f-b9f5-157c183bd201",
   "metadata": {},
   "source": [
    "### NB_VICTIMES_TOTAL"
   ]
  },
  {
   "cell_type": "code",
   "execution_count": 19,
   "id": "72f4d848-faa8-458c-86d0-09aa55f3a856",
   "metadata": {},
   "outputs": [
    {
     "data": {
      "text/plain": [
       "0.26424685064457626"
      ]
     },
     "execution_count": 19,
     "metadata": {},
     "output_type": "execute_result"
    }
   ],
   "source": [
    "df.NB_VICTIMES_TOTAL.mean()"
   ]
  },
  {
   "cell_type": "code",
   "execution_count": 20,
   "id": "36359d1e-f234-4981-988b-36ea53d815aa",
   "metadata": {},
   "outputs": [
    {
     "data": {
      "text/plain": [
       "0     160229\n",
       "1      36253\n",
       "2       5742\n",
       "3       1273\n",
       "4        341\n",
       "5        115\n",
       "6         36\n",
       "7          7\n",
       "8          7\n",
       "9          4\n",
       "15         2\n",
       "27         1\n",
       "Name: NB_VICTIMES_TOTAL, dtype: int64"
      ]
     },
     "execution_count": 20,
     "metadata": {},
     "output_type": "execute_result"
    }
   ],
   "source": [
    "df.NB_VICTIMES_TOTAL.value_counts()"
   ]
  },
  {
   "cell_type": "markdown",
   "id": "cb7061bc-2900-4bd0-8c7c-a64c54b71ea6",
   "metadata": {},
   "source": [
    "### NB_VEH_IMPLIQUES_ACCDN"
   ]
  },
  {
   "cell_type": "code",
   "execution_count": 21,
   "id": "8483cb2f-eaaa-4156-8e13-2b29e354402f",
   "metadata": {},
   "outputs": [
    {
     "data": {
      "text/plain": [
       "1.9504673859230321"
      ]
     },
     "execution_count": 21,
     "metadata": {},
     "output_type": "execute_result"
    }
   ],
   "source": [
    "df.NB_VEH_IMPLIQUES_ACCDN.mean()"
   ]
  },
  {
   "cell_type": "code",
   "execution_count": 22,
   "id": "34182420-7666-4a1c-ae69-112b6ad774f7",
   "metadata": {},
   "outputs": [
    {
     "data": {
      "text/plain": [
       "2.0     156399\n",
       "1.0      31649\n",
       "3.0      11656\n",
       "4.0       3525\n",
       "5.0        502\n",
       "6.0        188\n",
       "7.0         41\n",
       "8.0         23\n",
       "9.0          8\n",
       "10.0         5\n",
       "14.0         4\n",
       "11.0         3\n",
       "12.0         1\n",
       "31.0         1\n",
       "18.0         1\n",
       "13.0         1\n",
       "Name: NB_VEH_IMPLIQUES_ACCDN, dtype: int64"
      ]
     },
     "execution_count": 22,
     "metadata": {},
     "output_type": "execute_result"
    }
   ],
   "source": [
    "df.NB_VEH_IMPLIQUES_ACCDN.value_counts()"
   ]
  },
  {
   "cell_type": "markdown",
   "id": "e5957ba8-7bf5-4092-8bb7-215b35c49136",
   "metadata": {},
   "source": [
    "### NB_DECES_PIETON"
   ]
  },
  {
   "cell_type": "code",
   "execution_count": 23,
   "id": "0c985012-a195-42ab-8c9e-ce7f8b013dd7",
   "metadata": {},
   "outputs": [
    {
     "data": {
      "text/plain": [
       "0.0007156511935689426"
      ]
     },
     "execution_count": 23,
     "metadata": {},
     "output_type": "execute_result"
    }
   ],
   "source": [
    "df.NB_DECES_PIETON.mean()"
   ]
  },
  {
   "cell_type": "code",
   "execution_count": 24,
   "id": "8d6c7954-fe06-4ec8-bac3-5c968f5084bf",
   "metadata": {},
   "outputs": [
    {
     "data": {
      "text/plain": [
       "0    203865\n",
       "1       144\n",
       "2         1\n",
       "Name: NB_DECES_PIETON, dtype: int64"
      ]
     },
     "execution_count": 24,
     "metadata": {},
     "output_type": "execute_result"
    }
   ],
   "source": [
    "df.NB_DECES_PIETON.value_counts()"
   ]
  },
  {
   "cell_type": "markdown",
   "id": "2744726d-6fea-4786-97ac-37342f84eed0",
   "metadata": {},
   "source": [
    "### NB_BLESSES_PIETON"
   ]
  },
  {
   "cell_type": "code",
   "execution_count": 25,
   "id": "414855df-a5fe-4875-9f9b-7aa87c2a091f",
   "metadata": {},
   "outputs": [
    {
     "data": {
      "text/plain": [
       "0.049816185481103864"
      ]
     },
     "execution_count": 25,
     "metadata": {},
     "output_type": "execute_result"
    }
   ],
   "source": [
    "df.NB_BLESSES_PIETON.mean()"
   ]
  },
  {
   "cell_type": "code",
   "execution_count": 26,
   "id": "65eb6d06-c6b9-4872-8c2f-4c326b38bafc",
   "metadata": {},
   "outputs": [
    {
     "data": {
      "text/plain": [
       "0    194231\n",
       "1      9434\n",
       "2       319\n",
       "3        19\n",
       "4         5\n",
       "7         2\n",
       "Name: NB_BLESSES_PIETON, dtype: int64"
      ]
     },
     "execution_count": 26,
     "metadata": {},
     "output_type": "execute_result"
    }
   ],
   "source": [
    "df.NB_BLESSES_PIETON.value_counts()"
   ]
  },
  {
   "cell_type": "markdown",
   "id": "ae71b894-ace0-4d3a-9c7d-b167054d0e1b",
   "metadata": {},
   "source": [
    "### NB_VICTIMES_PIETON"
   ]
  },
  {
   "cell_type": "code",
   "execution_count": 27,
   "id": "d29ca3b4-9c6a-42ee-b448-dd913b1db799",
   "metadata": {},
   "outputs": [
    {
     "data": {
      "text/plain": [
       "0.05053183667467281"
      ]
     },
     "execution_count": 27,
     "metadata": {},
     "output_type": "execute_result"
    }
   ],
   "source": [
    "df.NB_VICTIMES_PIETON.mean()"
   ]
  },
  {
   "cell_type": "code",
   "execution_count": 28,
   "id": "10773126-236b-44d8-aa04-840b1ca9dba6",
   "metadata": {},
   "outputs": [
    {
     "data": {
      "text/plain": [
       "0    194094\n",
       "1      9562\n",
       "2       328\n",
       "3        19\n",
       "4         5\n",
       "7         2\n",
       "Name: NB_VICTIMES_PIETON, dtype: int64"
      ]
     },
     "execution_count": 28,
     "metadata": {},
     "output_type": "execute_result"
    }
   ],
   "source": [
    "df.NB_VICTIMES_PIETON.value_counts()"
   ]
  },
  {
   "cell_type": "markdown",
   "id": "3ee4726d-a49b-410a-a2ff-ae3402f9a2a8",
   "metadata": {},
   "source": [
    "### NB_DECES_MOTO"
   ]
  },
  {
   "cell_type": "code",
   "execution_count": 29,
   "id": "5524c343-9c26-4e48-9540-0e66f62a4bc3",
   "metadata": {},
   "outputs": [
    {
     "data": {
      "text/plain": [
       "6.862408705455615e-05"
      ]
     },
     "execution_count": 29,
     "metadata": {},
     "output_type": "execute_result"
    }
   ],
   "source": [
    "df.NB_DECES_MOTO.mean()"
   ]
  },
  {
   "cell_type": "code",
   "execution_count": 30,
   "id": "a7816524-d036-44ed-93e6-b7ce4be313c9",
   "metadata": {},
   "outputs": [
    {
     "data": {
      "text/plain": [
       "0    203996\n",
       "1        14\n",
       "Name: NB_DECES_MOTO, dtype: int64"
      ]
     },
     "execution_count": 30,
     "metadata": {},
     "output_type": "execute_result"
    }
   ],
   "source": [
    "df.NB_DECES_MOTO.value_counts()"
   ]
  },
  {
   "cell_type": "markdown",
   "id": "59d08c82-80c9-423d-b5db-67cd2c8d408f",
   "metadata": {},
   "source": [
    "### NB_BLESSES_MOTO"
   ]
  },
  {
   "cell_type": "code",
   "execution_count": 31,
   "id": "e5adf69d-a215-4e2a-aaec-97bbe8b16aa4",
   "metadata": {},
   "outputs": [
    {
     "data": {
      "text/plain": [
       "0.007705504632125876"
      ]
     },
     "execution_count": 31,
     "metadata": {},
     "output_type": "execute_result"
    }
   ],
   "source": [
    "df.NB_BLESSES_MOTO.mean()"
   ]
  },
  {
   "cell_type": "code",
   "execution_count": 32,
   "id": "ee917948-17c9-4dc8-83cb-b896bb8ace41",
   "metadata": {},
   "outputs": [
    {
     "data": {
      "text/plain": [
       "0    202515\n",
       "1      1419\n",
       "2        75\n",
       "3         1\n",
       "Name: NB_BLESSES_MOTO, dtype: int64"
      ]
     },
     "execution_count": 32,
     "metadata": {},
     "output_type": "execute_result"
    }
   ],
   "source": [
    "df.NB_BLESSES_MOTO.value_counts()"
   ]
  },
  {
   "cell_type": "markdown",
   "id": "d7d9c79f-2bf8-4b52-8a48-4de6ce98f02a",
   "metadata": {},
   "source": [
    "### NB_VICTIMES_MOTO"
   ]
  },
  {
   "cell_type": "code",
   "execution_count": 33,
   "id": "81bf6deb-30dc-4efa-9e64-390e0eb6863a",
   "metadata": {},
   "outputs": [
    {
     "data": {
      "text/plain": [
       "0.007774128719180432"
      ]
     },
     "execution_count": 33,
     "metadata": {},
     "output_type": "execute_result"
    }
   ],
   "source": [
    "df.NB_VICTIMES_MOTO.mean()"
   ]
  },
  {
   "cell_type": "code",
   "execution_count": 34,
   "id": "e35a5eaa-428e-431e-afd3-84ac51f5ec7a",
   "metadata": {},
   "outputs": [
    {
     "data": {
      "text/plain": [
       "0    202501\n",
       "1      1433\n",
       "2        75\n",
       "3         1\n",
       "Name: NB_VICTIMES_MOTO, dtype: int64"
      ]
     },
     "execution_count": 34,
     "metadata": {},
     "output_type": "execute_result"
    }
   ],
   "source": [
    "df.NB_VICTIMES_MOTO.value_counts()"
   ]
  },
  {
   "cell_type": "markdown",
   "id": "41aa1e0d-5bff-41f2-a972-88e0fbd55490",
   "metadata": {},
   "source": [
    "### NB_DECES_VELO"
   ]
  },
  {
   "cell_type": "code",
   "execution_count": 35,
   "id": "2a474b8d-f91a-4e45-a6fb-f7aa0a959de9",
   "metadata": {},
   "outputs": [
    {
     "data": {
      "text/plain": [
       "0.00012744473310131855"
      ]
     },
     "execution_count": 35,
     "metadata": {},
     "output_type": "execute_result"
    }
   ],
   "source": [
    "df.NB_DECES_VELO.mean()"
   ]
  },
  {
   "cell_type": "code",
   "execution_count": 36,
   "id": "0610c811-f25a-4f88-a8c0-323874d28a4e",
   "metadata": {},
   "outputs": [
    {
     "data": {
      "text/plain": [
       "0    203984\n",
       "1        26\n",
       "Name: NB_DECES_VELO, dtype: int64"
      ]
     },
     "execution_count": 36,
     "metadata": {},
     "output_type": "execute_result"
    }
   ],
   "source": [
    "df.NB_DECES_VELO.value_counts()"
   ]
  },
  {
   "cell_type": "markdown",
   "id": "8d7f6d10-d095-4c6b-94ef-551ee417c091",
   "metadata": {},
   "source": [
    "### NB_BLESSES_VELO"
   ]
  },
  {
   "cell_type": "code",
   "execution_count": 37,
   "id": "498d4745-dd32-4567-aec8-8add33613ed7",
   "metadata": {},
   "outputs": [
    {
     "data": {
      "text/plain": [
       "0.029160335277682466"
      ]
     },
     "execution_count": 37,
     "metadata": {},
     "output_type": "execute_result"
    }
   ],
   "source": [
    "df.NB_BLESSES_VELO.mean()"
   ]
  },
  {
   "cell_type": "code",
   "execution_count": 38,
   "id": "30516fb5-16ab-46d2-a75e-a02391817c98",
   "metadata": {},
   "outputs": [
    {
     "data": {
      "text/plain": [
       "0    198091\n",
       "1      5889\n",
       "2        30\n",
       "Name: NB_BLESSES_VELO, dtype: int64"
      ]
     },
     "execution_count": 38,
     "metadata": {},
     "output_type": "execute_result"
    }
   ],
   "source": [
    "df.NB_BLESSES_VELO.value_counts()"
   ]
  },
  {
   "cell_type": "markdown",
   "id": "167a88fe-9e0d-4957-88a1-22b8d729c154",
   "metadata": {},
   "source": [
    "### NB_VICTIMES_VELO"
   ]
  },
  {
   "cell_type": "code",
   "execution_count": 39,
   "id": "41df5dc3-dcea-4135-92d0-8e3fb30e4357",
   "metadata": {},
   "outputs": [
    {
     "data": {
      "text/plain": [
       "0.029287780010783786"
      ]
     },
     "execution_count": 39,
     "metadata": {},
     "output_type": "execute_result"
    }
   ],
   "source": [
    "df.NB_VICTIMES_VELO.mean()"
   ]
  },
  {
   "cell_type": "code",
   "execution_count": 40,
   "id": "20046e54-d007-43a9-8116-7ae6a1794279",
   "metadata": {},
   "outputs": [
    {
     "data": {
      "text/plain": [
       "0    198065\n",
       "1      5915\n",
       "2        30\n",
       "Name: NB_VICTIMES_VELO, dtype: int64"
      ]
     },
     "execution_count": 40,
     "metadata": {},
     "output_type": "execute_result"
    }
   ],
   "source": [
    "df.NB_VICTIMES_VELO.value_counts()"
   ]
  },
  {
   "cell_type": "markdown",
   "id": "34ca04ac-a053-4321-98ec-d4d8088df374",
   "metadata": {},
   "source": [
    "### CD_MUNCP"
   ]
  },
  {
   "cell_type": "code",
   "execution_count": 41,
   "id": "dc471e2e-03db-494c-97f7-f0397dad4523",
   "metadata": {},
   "outputs": [
    {
     "data": {
      "text/plain": [
       "66023.0    184893\n",
       "66097.0      4096\n",
       "66087.0      2828\n",
       "66142.0      2804\n",
       "66072.0      2009\n",
       "            ...  \n",
       "75017.0         1\n",
       "60025.0         1\n",
       "60028.0         1\n",
       "41098.0         1\n",
       "76025.0         1\n",
       "Name: CD_MUNCP, Length: 81, dtype: int64"
      ]
     },
     "execution_count": 41,
     "metadata": {},
     "output_type": "execute_result"
    }
   ],
   "source": [
    "df.CD_MUNCP.value_counts()"
   ]
  },
  {
   "cell_type": "markdown",
   "id": "bd07a0f3-cfce-4e1a-85ad-88cb699a90af",
   "metadata": {},
   "source": [
    "### REG_ADM"
   ]
  },
  {
   "cell_type": "code",
   "execution_count": 42,
   "id": "62445c75-cdff-46dc-896e-336df68a9a85",
   "metadata": {},
   "outputs": [
    {
     "data": {
      "text/plain": [
       "Montréal (06)                          119252\n",
       "Montréal(06)                            84621\n",
       "Lanaudière (14)                            21\n",
       "Montérégie (16)                            20\n",
       "Lanaudière(14)                              9\n",
       "Montérégie(16)                              8\n",
       "Estrie (05)                                 7\n",
       "Centre-du-Québec (17)                       6\n",
       "Outaouais (07)                              6\n",
       "Laval (13)                                  6\n",
       "Mauricie (04)                               5\n",
       "Laurentides (15)                            5\n",
       "Capitale-Nationale (03)                     4\n",
       "Estrie(05)                                  4\n",
       "Capitale-Nationale(03)                      4\n",
       "Abitibi-Témiscamingue (08)                  3\n",
       "Abitibi-Témiscamingue(08)                   3\n",
       "Chaudière-Appalaches(12)                    3\n",
       "Laval(13)                                   2\n",
       "Mauricie(04)                                2\n",
       "Gaspésie/-Îles-de-la-Madeleine (11)         1\n",
       "Gaspésie/-Îles-de-la-Madeleine(11)          1\n",
       "Laurentides(15)                             1\n",
       "Saguenay/-Lac-Saint-Jean(02)                1\n",
       "Outaouais(07)                               1\n",
       "Centre-du-Québec(17)                        1\n",
       "Bas-Saint-Laurent (01)                      1\n",
       "Name: REG_ADM, dtype: int64"
      ]
     },
     "execution_count": 42,
     "metadata": {},
     "output_type": "execute_result"
    }
   ],
   "source": [
    "df.REG_ADM.value_counts()"
   ]
  },
  {
   "cell_type": "code",
   "execution_count": 43,
   "id": "20ce819c-1ea4-48e9-a889-fcc20359727c",
   "metadata": {},
   "outputs": [],
   "source": [
    "df.REG_ADM[df.REG_ADM == 'Montréal (06)'].loc[:] = 'Montréal(06)'"
   ]
  },
  {
   "cell_type": "code",
   "execution_count": 44,
   "id": "4d4475ac-5f12-4dc4-89b5-9e55f284c3cf",
   "metadata": {},
   "outputs": [
    {
     "data": {
      "text/plain": [
       "Montréal (06)                          119252\n",
       "Montréal(06)                            84621\n",
       "Lanaudière (14)                            21\n",
       "Montérégie (16)                            20\n",
       "Lanaudière(14)                              9\n",
       "Montérégie(16)                              8\n",
       "Estrie (05)                                 7\n",
       "Centre-du-Québec (17)                       6\n",
       "Outaouais (07)                              6\n",
       "Laval (13)                                  6\n",
       "Mauricie (04)                               5\n",
       "Laurentides (15)                            5\n",
       "Capitale-Nationale (03)                     4\n",
       "Estrie(05)                                  4\n",
       "Capitale-Nationale(03)                      4\n",
       "Abitibi-Témiscamingue (08)                  3\n",
       "Abitibi-Témiscamingue(08)                   3\n",
       "Chaudière-Appalaches(12)                    3\n",
       "Laval(13)                                   2\n",
       "Mauricie(04)                                2\n",
       "Gaspésie/-Îles-de-la-Madeleine (11)         1\n",
       "Gaspésie/-Îles-de-la-Madeleine(11)          1\n",
       "Laurentides(15)                             1\n",
       "Saguenay/-Lac-Saint-Jean(02)                1\n",
       "Outaouais(07)                               1\n",
       "Centre-du-Québec(17)                        1\n",
       "Bas-Saint-Laurent (01)                      1\n",
       "Name: REG_ADM, dtype: int64"
      ]
     },
     "execution_count": 44,
     "metadata": {},
     "output_type": "execute_result"
    }
   ],
   "source": [
    "df.REG_ADM.value_counts()"
   ]
  },
  {
   "cell_type": "markdown",
   "id": "ac2b26dd-6ce7-4c53-9465-ec567d8811e7",
   "metadata": {},
   "source": [
    "### MRC"
   ]
  },
  {
   "cell_type": "code",
   "execution_count": 45,
   "id": "ec5d386d-6cbd-4c0f-8c3d-7631adc50e7f",
   "metadata": {},
   "outputs": [
    {
     "data": {
      "text/plain": [
       "Montréal (66 )                          203873\n",
       "Montcalm (63 )                              14\n",
       "L'Assomption (60 )                          11\n",
       "Laval (65 )                                  8\n",
       "Sherbrooke (43 )                             7\n",
       "Trois-Rivières (371)                         6\n",
       "Québec (23 )                                 4\n",
       "Rouville (55 )                               4\n",
       "Marguerite-D'Youville (59 )                  4\n",
       "Le Haut-Richelieu (56 )                      4\n",
       "Beauharnois-Salaberry (70 )                  4\n",
       "Longueuil (58 )                              4\n",
       "Vaudreuil-Soulanges (71 )                    4\n",
       "L'Érable (32 )                               3\n",
       "Gatineau (81 )                               3\n",
       "Nicolet-Yamaska (50 )                        3\n",
       "Joliette (61 )                               3\n",
       "Témiscamingue (85 )                          3\n",
       "Charlevoix (16 )                             3\n",
       "Le Granit (30 )                              2\n",
       "La Mitis (09 )                               1\n",
       "Antoine-Labelle (79 )                        1\n",
       "Bonaventure (05 )                            1\n",
       "Thérèse-De Blainville (73 )                  1\n",
       "Les Jardins-de-Napierville (68 )             1\n",
       "Les Laurentides (78 )                        1\n",
       "La Vallée-de-la-Gatineau (83 )               1\n",
       "Papineau (80 )                               1\n",
       "Matawinie (62 )                              1\n",
       "Coaticook (44 )                              1\n",
       "Pontiac (84 )                                1\n",
       "Drummond (49 )                               1\n",
       "Portneuf (34 )                               1\n",
       "Abitibi-Ouest (87 )                          1\n",
       "Les Maskoutains (54 )                        1\n",
       "Le Haut-Saint-François (41 )                 1\n",
       "La Rivière-du-Nord (75 )                     1\n",
       "La Vallée-de-l'Or (89 )                      1\n",
       "Roussillon (67 )                             1\n",
       "Com.maritime ÎlesDeLaMadeleine (01 )         1\n",
       "Mirabel (74 )                                1\n",
       "Lotbinière (33 )                             1\n",
       "Les Moulins (64 )                            1\n",
       "Le Fjord-du-Saguenay (942)                   1\n",
       "Shawinigan (36 )                             1\n",
       "Abitibi (88 )                                1\n",
       "Pierre-De Saurel (53 )                       1\n",
       "Les Collines-de-l'Outaouais (82 )            1\n",
       "Lévis (251)                                  1\n",
       "Les Appalaches (31 )                         1\n",
       "Argenteuil (76 )                             1\n",
       "Name: MRC, dtype: int64"
      ]
     },
     "execution_count": 45,
     "metadata": {},
     "output_type": "execute_result"
    }
   ],
   "source": [
    "df.MRC.value_counts()"
   ]
  },
  {
   "cell_type": "markdown",
   "id": "e5d86248-f0b9-4a1f-b4ae-eabfe1aa2aea",
   "metadata": {},
   "source": [
    "### NO_CIVIQ_ACCDN"
   ]
  },
  {
   "cell_type": "code",
   "execution_count": 46,
   "id": "b8a5a1cc-5c4c-4dd9-a777-820a8b95dd17",
   "metadata": {},
   "outputs": [
    {
     "data": {
      "text/plain": [
       "6801.0     581\n",
       "7275.0     431\n",
       "7999.0     333\n",
       "800.0      303\n",
       "7077.0     288\n",
       "          ... \n",
       "3306.0       1\n",
       "7468.0       1\n",
       "8586.0       1\n",
       "3393.0       1\n",
       "11432.0      1\n",
       "Name: NO_CIVIQ_ACCDN, Length: 11559, dtype: int64"
      ]
     },
     "execution_count": 46,
     "metadata": {},
     "output_type": "execute_result"
    }
   ],
   "source": [
    "df.NO_CIVIQ_ACCDN.value_counts()"
   ]
  },
  {
   "cell_type": "markdown",
   "id": "447fb4cb-e263-4f14-a495-c2f79ad45224",
   "metadata": {},
   "source": [
    "### SFX_NO_CIVIQ_ACCDN"
   ]
  },
  {
   "cell_type": "code",
   "execution_count": 47,
   "id": "bdd4c6a5-3818-4638-89e8-bcd2cd387457",
   "metadata": {},
   "outputs": [
    {
     "data": {
      "text/plain": [
       "A      103\n",
       "F       95\n",
       "B       22\n",
       "P       17\n",
       "E       11\n",
       "      ... \n",
       "6        1\n",
       "107      1\n",
       "10       1\n",
       "20       1\n",
       ",        1\n",
       "Name: SFX_NO_CIVIQ_ACCDN, Length: 87, dtype: int64"
      ]
     },
     "execution_count": 47,
     "metadata": {},
     "output_type": "execute_result"
    }
   ],
   "source": [
    "df.SFX_NO_CIVIQ_ACCDN.value_counts()"
   ]
  },
  {
   "cell_type": "markdown",
   "id": "9655cff2-8985-4135-8643-77e65df044ec",
   "metadata": {},
   "source": [
    "### RUE_ACCDN"
   ]
  },
  {
   "cell_type": "code",
   "execution_count": 48,
   "id": "883c3d0a-ab82-4442-a698-4156711e07f2",
   "metadata": {},
   "outputs": [
    {
     "data": {
      "text/plain": [
       "SHERBROOKE                3827\n",
       "HENRI BOURASSA            3123\n",
       "PAPINEAU                  2324\n",
       "JEAN TALON                2167\n",
       "N-D                       1945\n",
       "                          ... \n",
       "23E AV ET LOUIS A AMOS       1\n",
       "ST JACQUES ST PIERRE         1\n",
       "N-D LACHINE                  1\n",
       "PERRON FACE                  1\n",
       "AV BELLEVOI                  1\n",
       "Name: RUE_ACCDN, Length: 17640, dtype: int64"
      ]
     },
     "execution_count": 48,
     "metadata": {},
     "output_type": "execute_result"
    }
   ],
   "source": [
    "df.RUE_ACCDN.value_counts()"
   ]
  },
  {
   "cell_type": "markdown",
   "id": "ea1df138-cb32-454b-9fee-d559d1a90741",
   "metadata": {},
   "source": [
    "### TP_REPRR_ACCDN"
   ]
  },
  {
   "cell_type": "code",
   "execution_count": 49,
   "id": "e7dda0e8-590d-4d1f-93af-8a1fc86087f7",
   "metadata": {},
   "outputs": [
    {
     "data": {
      "text/plain": [
       "1.0    110566\n",
       "2.0     16046\n",
       "0.0        15\n",
       "Name: TP_REPRR_ACCDN, dtype: int64"
      ]
     },
     "execution_count": 49,
     "metadata": {},
     "output_type": "execute_result"
    }
   ],
   "source": [
    "df.TP_REPRR_ACCDN.value_counts()"
   ]
  },
  {
   "cell_type": "markdown",
   "id": "deaf51b3-44b5-44fc-90ba-08307ffb54bd",
   "metadata": {},
   "source": [
    "### ACCDN_PRES_DE"
   ]
  },
  {
   "cell_type": "code",
   "execution_count": 50,
   "id": "c1068ba6-03d9-4c90-8338-1c39945c6930",
   "metadata": {},
   "outputs": [
    {
     "data": {
      "text/plain": [
       "FACE                         1977\n",
       "SHERBROOKE                   1582\n",
       "JEAN TALON                   1238\n",
       "STAT                         1077\n",
       "PAPINEAU                     1060\n",
       "                             ... \n",
       "PRES POTEAU 27                  1\n",
       "PRES DE L INNOVATION            1\n",
       "STT DU TARGET                   1\n",
       "SEVILLY                         1\n",
       "MAJEAU ET HOTEL  DE VILLE       1\n",
       "Name: ACCDN_PRES_DE, Length: 19734, dtype: int64"
      ]
     },
     "execution_count": 50,
     "metadata": {},
     "output_type": "execute_result"
    }
   ],
   "source": [
    "df.ACCDN_PRES_DE.value_counts()"
   ]
  },
  {
   "cell_type": "markdown",
   "id": "0bbec3a0-e713-4352-ba91-b27b1c6c783e",
   "metadata": {},
   "source": [
    "### NO_ROUTE "
   ]
  },
  {
   "cell_type": "code",
   "execution_count": 51,
   "id": "c3c98a0c-5f9d-453c-9b63-961720bc802a",
   "metadata": {},
   "outputs": [
    {
     "data": {
      "text/plain": [
       "0.0      216\n",
       "138.0    171\n",
       "335.0     54\n",
       "40.0      39\n",
       "125.0     37\n",
       "19.0      23\n",
       "117.0     15\n",
       "20.0      14\n",
       "15.0      14\n",
       "720.0      7\n",
       "520.0      7\n",
       "132.0      4\n",
       "175.0      3\n",
       "301.0      3\n",
       "134.0      3\n",
       "205.0      2\n",
       "50.0       2\n",
       "221.0      2\n",
       "122.0      2\n",
       "220.0      2\n",
       "148.0      2\n",
       "25.0       2\n",
       "235.0      2\n",
       "101.0      2\n",
       "299.0      1\n",
       "195.0      1\n",
       "112.0      1\n",
       "222.0      1\n",
       "10.0       1\n",
       "5.0        1\n",
       "340.0      1\n",
       "381.0      1\n",
       "165.0      1\n",
       "345.0      1\n",
       "395.0      1\n",
       "210.0      1\n",
       "233.0      1\n",
       "228.0      1\n",
       "232.0      1\n",
       "372.0      1\n",
       "116.0      1\n",
       "371.0      1\n",
       "13.0       1\n",
       "208.0      1\n",
       "315.0      1\n",
       "104.0      1\n",
       "321.0      1\n",
       "361.0      1\n",
       "Name: NO_ROUTE, dtype: int64"
      ]
     },
     "execution_count": 51,
     "metadata": {},
     "output_type": "execute_result"
    }
   ],
   "source": [
    "df.NO_ROUTE.value_counts()"
   ]
  },
  {
   "cell_type": "markdown",
   "id": "c01f7877-02f8-4f11-b8e2-553cf993643d",
   "metadata": {},
   "source": [
    "### CD_PNT_CDRNL_ROUTE"
   ]
  },
  {
   "cell_type": "code",
   "execution_count": 52,
   "id": "8dcb5f17-5b47-442c-89a6-b546ac3c363e",
   "metadata": {},
   "outputs": [
    {
     "data": {
      "text/plain": [
       "O    73\n",
       "E    63\n",
       "N    44\n",
       "S    36\n",
       "Name: CD_PNT_CDRNL_ROUTE, dtype: int64"
      ]
     },
     "execution_count": 52,
     "metadata": {},
     "output_type": "execute_result"
    }
   ],
   "source": [
    "df.CD_PNT_CDRNL_ROUTE.value_counts()"
   ]
  },
  {
   "cell_type": "markdown",
   "id": "1075a5f8-0537-4792-ac62-73748b5c8c0d",
   "metadata": {},
   "source": [
    "### BORNE_KM_ACCDN"
   ]
  },
  {
   "cell_type": "code",
   "execution_count": 53,
   "id": "1d0e26b2-316f-41a4-a763-c6762f2a8c99",
   "metadata": {},
   "outputs": [
    {
     "data": {
      "text/plain": [
       "0.3       2\n",
       "1.0       2\n",
       "4.6       1\n",
       "65.1      1\n",
       "62.3      1\n",
       "77.0      1\n",
       "270.7     1\n",
       "1307.0    1\n",
       "3610.0    1\n",
       "81.9      1\n",
       "920.1     1\n",
       "89.1      1\n",
       "67.8      1\n",
       "511.5     1\n",
       "670.1     1\n",
       "90.0      1\n",
       "50.0      1\n",
       "355.0     1\n",
       "1220.0    1\n",
       "30.0      1\n",
       "64.0      1\n",
       "65.4      1\n",
       "208.3     1\n",
       "682.0     1\n",
       "121.5     1\n",
       "936.0     1\n",
       "110.1     1\n",
       "85.0      1\n",
       "54.8      1\n",
       "76.2      1\n",
       "69.0      1\n",
       "1195.5    1\n",
       "62.0      1\n",
       "2.0       1\n",
       "506.0     1\n",
       "643.0     1\n",
       "541.5     1\n",
       "32.0      1\n",
       "65.2      1\n",
       "5801.0    1\n",
       "4911.0    1\n",
       "3345.0    1\n",
       "58.3      1\n",
       "8410.0    1\n",
       "4354.0    1\n",
       "703.3     1\n",
       "501.2     1\n",
       "163.5     1\n",
       "87.3      1\n",
       "49.9      1\n",
       "634.0     1\n",
       "58.0      1\n",
       "74.9      1\n",
       "76.6      1\n",
       "5321.0    1\n",
       "99.0      1\n",
       "357.5     1\n",
       "Name: BORNE_KM_ACCDN, dtype: int64"
      ]
     },
     "execution_count": 53,
     "metadata": {},
     "output_type": "execute_result"
    }
   ],
   "source": [
    "df.BORNE_KM_ACCDN.value_counts()"
   ]
  },
  {
   "cell_type": "markdown",
   "id": "89482fb6-6740-406b-afa6-e911714a744c",
   "metadata": {},
   "source": [
    "### NB_METRE_DIST_ACCD"
   ]
  },
  {
   "cell_type": "code",
   "execution_count": 54,
   "id": "80449684-01b7-4d57-a30e-84ed51aa00c8",
   "metadata": {},
   "outputs": [
    {
     "data": {
      "text/plain": [
       "0        NaN\n",
       "1        NaN\n",
       "2        NaN\n",
       "3        NaN\n",
       "4        NaN\n",
       "          ..\n",
       "204005   NaN\n",
       "204006   NaN\n",
       "204007   NaN\n",
       "204008   NaN\n",
       "204009   NaN\n",
       "Name: NB_METRE_DIST_ACCD, Length: 204010, dtype: float64"
      ]
     },
     "execution_count": 54,
     "metadata": {},
     "output_type": "execute_result"
    }
   ],
   "source": [
    "df.NB_METRE_DIST_ACCD"
   ]
  },
  {
   "cell_type": "code",
   "execution_count": 55,
   "id": "d7edeb5b-4762-433b-8e80-26d1914d0113",
   "metadata": {},
   "outputs": [
    {
     "data": {
      "text/plain": [
       "10.0      8558\n",
       "5.0       7893\n",
       "50.0      5515\n",
       "20.0      5225\n",
       "100.0     4274\n",
       "          ... \n",
       "810.0        1\n",
       "209.0        1\n",
       "215.0        1\n",
       "39.0         1\n",
       "1100.0       1\n",
       "Name: NB_METRE_DIST_ACCD, Length: 147, dtype: int64"
      ]
     },
     "execution_count": 55,
     "metadata": {},
     "output_type": "execute_result"
    }
   ],
   "source": [
    "df.NB_METRE_DIST_ACCD.value_counts()"
   ]
  },
  {
   "cell_type": "markdown",
   "id": "05567464-5e95-4d88-a0bc-8aee242e252d",
   "metadata": {},
   "source": [
    "###  CD_PNT_CDRNL_REPRR"
   ]
  },
  {
   "cell_type": "code",
   "execution_count": 56,
   "id": "f4fabbb2-6f6d-46ee-bd8b-ba502ccb7db8",
   "metadata": {},
   "outputs": [
    {
     "data": {
      "text/plain": [
       "0         NaN\n",
       "1         NaN\n",
       "2           E\n",
       "3         NaN\n",
       "4         NaN\n",
       "         ... \n",
       "204005    NaN\n",
       "204006    NaN\n",
       "204007    NaN\n",
       "204008    NaN\n",
       "204009    NaN\n",
       "Name: CD_PNT_CDRNL_REPRR, Length: 204010, dtype: object"
      ]
     },
     "execution_count": 56,
     "metadata": {},
     "output_type": "execute_result"
    }
   ],
   "source": [
    "df.CD_PNT_CDRNL_REPRR"
   ]
  },
  {
   "cell_type": "code",
   "execution_count": 57,
   "id": "794e5a5f-23d1-4956-8d1c-956d56b70a52",
   "metadata": {},
   "outputs": [
    {
     "data": {
      "text/plain": [
       "N    17647\n",
       "S    17352\n",
       "O    14709\n",
       "E    14707\n",
       "0        1\n",
       "Name: CD_PNT_CDRNL_REPRR, dtype: int64"
      ]
     },
     "execution_count": 57,
     "metadata": {},
     "output_type": "execute_result"
    }
   ],
   "source": [
    "df.CD_PNT_CDRNL_REPRR.value_counts()"
   ]
  },
  {
   "cell_type": "markdown",
   "id": "5531aca3-4ba5-4d67-b8dd-366f9771ee03",
   "metadata": {},
   "source": [
    "### VITESSE_AUTOR"
   ]
  },
  {
   "cell_type": "code",
   "execution_count": 58,
   "id": "4e7c10df-5b79-4d7c-88d0-c572b1b31658",
   "metadata": {},
   "outputs": [
    {
     "data": {
      "text/plain": [
       "0          NaN\n",
       "1          NaN\n",
       "2         50.0\n",
       "3          NaN\n",
       "4          NaN\n",
       "          ... \n",
       "204005     NaN\n",
       "204006     NaN\n",
       "204007    50.0\n",
       "204008    50.0\n",
       "204009    40.0\n",
       "Name: VITESSE_AUTOR, Length: 204010, dtype: float64"
      ]
     },
     "execution_count": 58,
     "metadata": {},
     "output_type": "execute_result"
    }
   ],
   "source": [
    "df.VITESSE_AUTOR"
   ]
  },
  {
   "cell_type": "code",
   "execution_count": 59,
   "id": "dba95be3-12bb-4c4f-aa1b-710ddc864021",
   "metadata": {},
   "outputs": [
    {
     "data": {
      "text/plain": [
       "50.0     82765\n",
       "40.0     28872\n",
       "30.0      8134\n",
       "10.0      1438\n",
       "60.0      1380\n",
       "70.0       486\n",
       "20.0       414\n",
       "90.0        76\n",
       "80.0        48\n",
       "100.0       35\n",
       "Name: VITESSE_AUTOR, dtype: int64"
      ]
     },
     "execution_count": 59,
     "metadata": {},
     "output_type": "execute_result"
    }
   ],
   "source": [
    "df.VITESSE_AUTOR.value_counts()"
   ]
  },
  {
   "cell_type": "markdown",
   "id": "b0cf979a-bac9-40fc-8784-fda229fe3a06",
   "metadata": {},
   "source": [
    "### CD_GENRE_ACCDN"
   ]
  },
  {
   "cell_type": "code",
   "execution_count": 60,
   "id": "755dae07-09e7-4305-9a73-510bab7aeef6",
   "metadata": {},
   "outputs": [
    {
     "data": {
      "text/plain": [
       "0         31.0\n",
       "1         31.0\n",
       "2         31.0\n",
       "3         31.0\n",
       "4         31.0\n",
       "          ... \n",
       "204005     NaN\n",
       "204006    31.0\n",
       "204007    31.0\n",
       "204008    52.0\n",
       "204009    31.0\n",
       "Name: CD_GENRE_ACCDN, Length: 204010, dtype: float64"
      ]
     },
     "execution_count": 60,
     "metadata": {},
     "output_type": "execute_result"
    }
   ],
   "source": [
    "df.CD_GENRE_ACCDN"
   ]
  },
  {
   "cell_type": "code",
   "execution_count": 61,
   "id": "804ec7ca-b8b6-4948-b26f-915084130ee9",
   "metadata": {
    "tags": []
   },
   "outputs": [
    {
     "data": {
      "text/plain": [
       "31.0    154674\n",
       "32.0     11117\n",
       "33.0      7382\n",
       "59.0      3102\n",
       "99.0      2464\n",
       "49.0      2262\n",
       "40.0      2026\n",
       "42.0      1860\n",
       "52.0      1561\n",
       "50.0      1396\n",
       "41.0      1075\n",
       "43.0      1008\n",
       "38.0       824\n",
       "39.0       504\n",
       "75.0       318\n",
       "72.0       313\n",
       "48.0       299\n",
       "47.0       272\n",
       "51.0       242\n",
       "44.0       240\n",
       "45.0       188\n",
       "35.0       178\n",
       "37.0       136\n",
       "71.0       111\n",
       "53.0       101\n",
       "74.0        88\n",
       "46.0        70\n",
       "54.0        40\n",
       "34.0        29\n",
       "73.0        29\n",
       "55.0        29\n",
       "36.0         4\n",
       "Name: CD_GENRE_ACCDN, dtype: int64"
      ]
     },
     "execution_count": 61,
     "metadata": {},
     "output_type": "execute_result"
    }
   ],
   "source": [
    "df.CD_GENRE_ACCDN.value_counts()"
   ]
  },
  {
   "cell_type": "markdown",
   "id": "432a1ccf-7f28-4ad7-b775-5d586689e03a",
   "metadata": {},
   "source": [
    "### CD_SIT_PRTCE_ACCDN"
   ]
  },
  {
   "cell_type": "code",
   "execution_count": 62,
   "id": "bd63e8a2-ade1-42cc-a4b2-e1330f7f1648",
   "metadata": {},
   "outputs": [
    {
     "data": {
      "text/plain": [
       "0        NaN\n",
       "1        NaN\n",
       "2        NaN\n",
       "3        NaN\n",
       "4        NaN\n",
       "          ..\n",
       "204005   NaN\n",
       "204006   NaN\n",
       "204007   NaN\n",
       "204008   NaN\n",
       "204009   NaN\n",
       "Name: CD_SIT_PRTCE_ACCDN, Length: 204010, dtype: float64"
      ]
     },
     "execution_count": 62,
     "metadata": {},
     "output_type": "execute_result"
    }
   ],
   "source": [
    "df.CD_SIT_PRTCE_ACCDN"
   ]
  },
  {
   "cell_type": "code",
   "execution_count": 63,
   "id": "8a336ab1-ba1b-4c4e-9ee4-4f6766823b07",
   "metadata": {},
   "outputs": [
    {
     "data": {
      "text/plain": [
       "9.0    1888\n",
       "1.0    1321\n",
       "3.0    1231\n",
       "2.0     153\n",
       "Name: CD_SIT_PRTCE_ACCDN, dtype: int64"
      ]
     },
     "execution_count": 63,
     "metadata": {},
     "output_type": "execute_result"
    }
   ],
   "source": [
    "df.CD_SIT_PRTCE_ACCDN.value_counts()"
   ]
  },
  {
   "cell_type": "markdown",
   "id": "46dbed06-cd48-45d3-81dd-f02dee5f7ffd",
   "metadata": {},
   "source": [
    "### CD_ETAT_SURFC|"
   ]
  },
  {
   "cell_type": "code",
   "execution_count": 64,
   "id": "ede711e5-48c3-46ac-9dbc-7897b53a5ac8",
   "metadata": {},
   "outputs": [
    {
     "data": {
      "text/plain": [
       "0         16.0\n",
       "1         11.0\n",
       "2         11.0\n",
       "3         11.0\n",
       "4         12.0\n",
       "          ... \n",
       "204005    11.0\n",
       "204006    11.0\n",
       "204007    11.0\n",
       "204008    11.0\n",
       "204009    11.0\n",
       "Name: CD_ETAT_SURFC, Length: 204010, dtype: float64"
      ]
     },
     "execution_count": 64,
     "metadata": {},
     "output_type": "execute_result"
    }
   ],
   "source": [
    "df.CD_ETAT_SURFC"
   ]
  },
  {
   "cell_type": "code",
   "execution_count": 65,
   "id": "db6b32b3-1c8b-4b38-bf31-cee87a897185",
   "metadata": {},
   "outputs": [
    {
     "data": {
      "text/plain": [
       "11.0    125706\n",
       "12.0     33111\n",
       "16.0     20179\n",
       "18.0      5805\n",
       "15.0      3059\n",
       "17.0      2533\n",
       "99.0       682\n",
       "13.0       273\n",
       "14.0       256\n",
       "19.0        68\n",
       "20.0        32\n",
       "Name: CD_ETAT_SURFC, dtype: int64"
      ]
     },
     "execution_count": 65,
     "metadata": {},
     "output_type": "execute_result"
    }
   ],
   "source": [
    "df.CD_ETAT_SURFC.value_counts()"
   ]
  },
  {
   "cell_type": "markdown",
   "id": "bf4655a5-263a-457a-93fb-c0c827218bb9",
   "metadata": {},
   "source": [
    "### CD_ECLRM"
   ]
  },
  {
   "cell_type": "code",
   "execution_count": 66,
   "id": "203366ea-56d8-4bd1-96c2-6b0de46c7641",
   "metadata": {},
   "outputs": [
    {
     "data": {
      "text/plain": [
       "0         1.0\n",
       "1         NaN\n",
       "2         3.0\n",
       "3         1.0\n",
       "4         1.0\n",
       "         ... \n",
       "204005    1.0\n",
       "204006    1.0\n",
       "204007    1.0\n",
       "204008    1.0\n",
       "204009    3.0\n",
       "Name: CD_ECLRM, Length: 204010, dtype: float64"
      ]
     },
     "execution_count": 66,
     "metadata": {},
     "output_type": "execute_result"
    }
   ],
   "source": [
    "df.CD_ECLRM"
   ]
  },
  {
   "cell_type": "code",
   "execution_count": 67,
   "id": "51d0d885-c273-4fcc-9c45-7c293642b527",
   "metadata": {},
   "outputs": [
    {
     "data": {
      "text/plain": [
       "1.0    128499\n",
       "3.0     51789\n",
       "2.0     10192\n",
       "4.0      1123\n",
       "Name: CD_ECLRM, dtype: int64"
      ]
     },
     "execution_count": 67,
     "metadata": {},
     "output_type": "execute_result"
    }
   ],
   "source": [
    "df.CD_ECLRM.value_counts()"
   ]
  },
  {
   "cell_type": "markdown",
   "id": "5d4c9569-ec7f-476e-9660-1834742b6691",
   "metadata": {},
   "source": [
    "### CD_ENVRN_ACCDN"
   ]
  },
  {
   "cell_type": "code",
   "execution_count": 68,
   "id": "9efc50d2-b8e9-4fae-bb9f-6a3ea946fab1",
   "metadata": {},
   "outputs": [
    {
     "data": {
      "text/plain": [
       "0         1.0\n",
       "1         NaN\n",
       "2         3.0\n",
       "3         3.0\n",
       "4         3.0\n",
       "         ... \n",
       "204005    2.0\n",
       "204006    2.0\n",
       "204007    4.0\n",
       "204008    2.0\n",
       "204009    2.0\n",
       "Name: CD_ENVRN_ACCDN, Length: 204010, dtype: float64"
      ]
     },
     "execution_count": 68,
     "metadata": {},
     "output_type": "execute_result"
    }
   ],
   "source": [
    "df.CD_ENVRN_ACCDN"
   ]
  },
  {
   "cell_type": "code",
   "execution_count": 69,
   "id": "4dd762bc-6031-4372-848e-465736a4017a",
   "metadata": {},
   "outputs": [
    {
     "data": {
      "text/plain": [
       "3.0    95011\n",
       "2.0    85434\n",
       "4.0     9247\n",
       "1.0     4048\n",
       "9.0     1532\n",
       "7.0     1410\n",
       "5.0      579\n",
       "6.0       61\n",
       "Name: CD_ENVRN_ACCDN, dtype: int64"
      ]
     },
     "execution_count": 69,
     "metadata": {},
     "output_type": "execute_result"
    }
   ],
   "source": [
    "df.CD_ENVRN_ACCDN.value_counts()"
   ]
  },
  {
   "cell_type": "markdown",
   "id": "807d1444-72b4-40a6-b455-5198076abc74",
   "metadata": {},
   "source": [
    "### CD_CATEG_ROUTE"
   ]
  },
  {
   "cell_type": "code",
   "execution_count": 70,
   "id": "c854f991-ed90-4b62-bb29-78d9217991de",
   "metadata": {},
   "outputs": [
    {
     "data": {
      "text/plain": [
       "0         21.0\n",
       "1          NaN\n",
       "2         13.0\n",
       "3         21.0\n",
       "4         21.0\n",
       "          ... \n",
       "204005    13.0\n",
       "204006    13.0\n",
       "204007    13.0\n",
       "204008    14.0\n",
       "204009    14.0\n",
       "Name: CD_CATEG_ROUTE, Length: 204010, dtype: float64"
      ]
     },
     "execution_count": 70,
     "metadata": {},
     "output_type": "execute_result"
    }
   ],
   "source": [
    "df.CD_CATEG_ROUTE"
   ]
  },
  {
   "cell_type": "code",
   "execution_count": 71,
   "id": "974d1962-6011-455b-8323-d550f63f0b9c",
   "metadata": {},
   "outputs": [
    {
     "data": {
      "text/plain": [
       "13.0    90860\n",
       "14.0    63638\n",
       "21.0    23956\n",
       "11.0     7295\n",
       "12.0     3682\n",
       "22.0     3643\n",
       "19.0     2141\n",
       "16.0     1393\n",
       "15.0      954\n",
       "29.0      480\n",
       "23.0      224\n",
       "24.0       37\n",
       "25.0       16\n",
       "Name: CD_CATEG_ROUTE, dtype: int64"
      ]
     },
     "execution_count": 71,
     "metadata": {},
     "output_type": "execute_result"
    }
   ],
   "source": [
    "df.CD_CATEG_ROUTE.value_counts()"
   ]
  },
  {
   "cell_type": "markdown",
   "id": "4cfa80da-dfd8-4a9f-9d76-53d5deaa3f04",
   "metadata": {},
   "source": [
    "### CD_ETAT_CHASS"
   ]
  },
  {
   "cell_type": "code",
   "execution_count": 72,
   "id": "004c652b-59eb-4761-b853-018684c38212",
   "metadata": {},
   "outputs": [
    {
     "data": {
      "text/plain": [
       "0         NaN\n",
       "1         NaN\n",
       "2         NaN\n",
       "3         NaN\n",
       "4         NaN\n",
       "         ... \n",
       "204005    NaN\n",
       "204006    1.0\n",
       "204007    NaN\n",
       "204008    NaN\n",
       "204009    NaN\n",
       "Name: CD_ETAT_CHASS, Length: 204010, dtype: float64"
      ]
     },
     "execution_count": 72,
     "metadata": {},
     "output_type": "execute_result"
    }
   ],
   "source": [
    "df.CD_ETAT_CHASS"
   ]
  },
  {
   "cell_type": "code",
   "execution_count": 73,
   "id": "50cb9ee9-8aec-40a5-896d-4525fc20090f",
   "metadata": {},
   "outputs": [
    {
     "data": {
      "text/plain": [
       "1.0    47464\n",
       "2.0      571\n",
       "5.0      470\n",
       "9.0      254\n",
       "6.0       67\n",
       "4.0       47\n",
       "3.0       34\n",
       "Name: CD_ETAT_CHASS, dtype: int64"
      ]
     },
     "execution_count": 73,
     "metadata": {},
     "output_type": "execute_result"
    }
   ],
   "source": [
    "df.CD_ETAT_CHASS.value_counts()"
   ]
  },
  {
   "cell_type": "markdown",
   "id": "2d63fc48-8a06-4171-a1a5-aacf90b226c7",
   "metadata": {},
   "source": [
    "### CD_ASPCT_ROUTE"
   ]
  },
  {
   "cell_type": "code",
   "execution_count": 74,
   "id": "35df01a3-6e5d-4e07-83a0-699fd0923536",
   "metadata": {},
   "outputs": [
    {
     "data": {
      "text/plain": [
       "0         11.0\n",
       "1          NaN\n",
       "2         21.0\n",
       "3         11.0\n",
       "4         11.0\n",
       "          ... \n",
       "204005    13.0\n",
       "204006    11.0\n",
       "204007    11.0\n",
       "204008    13.0\n",
       "204009    11.0\n",
       "Name: CD_ASPCT_ROUTE, Length: 204010, dtype: float64"
      ]
     },
     "execution_count": 74,
     "metadata": {},
     "output_type": "execute_result"
    }
   ],
   "source": [
    "df.CD_ASPCT_ROUTE"
   ]
  },
  {
   "cell_type": "code",
   "execution_count": 75,
   "id": "71c8be64-15c6-474f-b1a6-0abb5b465c0d",
   "metadata": {},
   "outputs": [
    {
     "data": {
      "text/plain": [
       "11.0    177323\n",
       "13.0      7042\n",
       "21.0      3554\n",
       "12.0      2955\n",
       "14.0      2323\n",
       "23.0       735\n",
       "22.0       398\n",
       "24.0       277\n",
       "Name: CD_ASPCT_ROUTE, dtype: int64"
      ]
     },
     "execution_count": 75,
     "metadata": {},
     "output_type": "execute_result"
    }
   ],
   "source": [
    "df.CD_ASPCT_ROUTE.value_counts()"
   ]
  },
  {
   "cell_type": "markdown",
   "id": "3a2c1af8-d070-4575-9609-67c6ab60a2af",
   "metadata": {},
   "source": [
    "### CD_LOCLN_ACCDN"
   ]
  },
  {
   "cell_type": "code",
   "execution_count": 76,
   "id": "2e3c7c5b-25d2-44cd-a1ce-af1e0fcedac1",
   "metadata": {},
   "outputs": [
    {
     "data": {
      "text/plain": [
       "0         33.0\n",
       "1          NaN\n",
       "2         32.0\n",
       "3         40.0\n",
       "4         40.0\n",
       "          ... \n",
       "204005    32.0\n",
       "204006    33.0\n",
       "204007    33.0\n",
       "204008    99.0\n",
       "204009    34.0\n",
       "Name: CD_LOCLN_ACCDN, Length: 204010, dtype: float64"
      ]
     },
     "execution_count": 76,
     "metadata": {},
     "output_type": "execute_result"
    }
   ],
   "source": [
    "df.CD_LOCLN_ACCDN"
   ]
  },
  {
   "cell_type": "code",
   "execution_count": 77,
   "id": "004544bf-b9fa-4c78-a837-430d6737d272",
   "metadata": {},
   "outputs": [
    {
     "data": {
      "text/plain": [
       "32.0    76965\n",
       "33.0    44373\n",
       "34.0    35655\n",
       "99.0    15926\n",
       "40.0    11448\n",
       "31.0     1038\n",
       "37.0      742\n",
       "39.0      549\n",
       "35.0      207\n",
       "36.0      121\n",
       "38.0       80\n",
       "0.0         1\n",
       "Name: CD_LOCLN_ACCDN, dtype: int64"
      ]
     },
     "execution_count": 77,
     "metadata": {},
     "output_type": "execute_result"
    }
   ],
   "source": [
    "df.CD_LOCLN_ACCDN.value_counts()"
   ]
  },
  {
   "cell_type": "markdown",
   "id": "f1f9cd12-de67-4d0a-ac49-0ad4b80c40c6",
   "metadata": {},
   "source": [
    "### CD_POSI_ACCDN"
   ]
  },
  {
   "cell_type": "code",
   "execution_count": 78,
   "id": "80bcffa9-b016-484a-8880-f20ab791e4aa",
   "metadata": {},
   "outputs": [
    {
     "data": {
      "text/plain": [
       "0         NaN\n",
       "1         NaN\n",
       "2         NaN\n",
       "3         NaN\n",
       "4         NaN\n",
       "         ... \n",
       "204005    NaN\n",
       "204006    6.0\n",
       "204007    NaN\n",
       "204008    NaN\n",
       "204009    NaN\n",
       "Name: CD_POSI_ACCDN, Length: 204010, dtype: float64"
      ]
     },
     "execution_count": 78,
     "metadata": {},
     "output_type": "execute_result"
    }
   ],
   "source": [
    "df.CD_POSI_ACCDN"
   ]
  },
  {
   "cell_type": "code",
   "execution_count": 79,
   "id": "a1ef7dc7-8f22-41dd-8eaa-e44ae361957d",
   "metadata": {},
   "outputs": [
    {
     "data": {
      "text/plain": [
       "6.0     39034\n",
       "10.0     2068\n",
       "5.0      1036\n",
       "7.0       774\n",
       "9.0       548\n",
       "8.0       410\n",
       "1.0       405\n",
       "2.0       314\n",
       "4.0       303\n",
       "3.0       152\n",
       "0.0         1\n",
       "Name: CD_POSI_ACCDN, dtype: int64"
      ]
     },
     "execution_count": 79,
     "metadata": {},
     "output_type": "execute_result"
    }
   ],
   "source": [
    "df.CD_POSI_ACCDN.value_counts()"
   ]
  },
  {
   "cell_type": "markdown",
   "id": "71b956a0-13b0-4754-8f7a-e30455be33a8",
   "metadata": {},
   "source": [
    "### CD_CONFG_ROUTE"
   ]
  },
  {
   "cell_type": "code",
   "execution_count": 80,
   "id": "a2306916-22c9-4dbe-a44a-116f4150628b",
   "metadata": {},
   "outputs": [
    {
     "data": {
      "text/plain": [
       "0         4.0\n",
       "1         NaN\n",
       "2         1.0\n",
       "3         2.0\n",
       "4         NaN\n",
       "         ... \n",
       "204005    3.0\n",
       "204006    2.0\n",
       "204007    2.0\n",
       "204008    2.0\n",
       "204009    1.0\n",
       "Name: CD_CONFG_ROUTE, Length: 204010, dtype: float64"
      ]
     },
     "execution_count": 80,
     "metadata": {},
     "output_type": "execute_result"
    }
   ],
   "source": [
    "df.CD_CONFG_ROUTE"
   ]
  },
  {
   "cell_type": "code",
   "execution_count": 81,
   "id": "781db0b2-39eb-4ba9-9d4b-5cae938c9f63",
   "metadata": {},
   "outputs": [
    {
     "data": {
      "text/plain": [
       "3.0    53186\n",
       "2.0    53018\n",
       "1.0    50340\n",
       "9.0    12197\n",
       "5.0     8257\n",
       "4.0     6230\n",
       "Name: CD_CONFG_ROUTE, dtype: int64"
      ]
     },
     "execution_count": 81,
     "metadata": {},
     "output_type": "execute_result"
    }
   ],
   "source": [
    "df.CD_CONFG_ROUTE.value_counts()"
   ]
  },
  {
   "cell_type": "markdown",
   "id": "5b0db500-d890-4042-8745-a83bb00a2b6e",
   "metadata": {},
   "source": [
    "### CD_ZON_TRAVX_ROUTR"
   ]
  },
  {
   "cell_type": "code",
   "execution_count": 82,
   "id": "1dabf3db-c593-4319-a720-2f26d114077f",
   "metadata": {},
   "outputs": [
    {
     "data": {
      "text/plain": [
       "0        NaN\n",
       "1        NaN\n",
       "2        NaN\n",
       "3        NaN\n",
       "4        NaN\n",
       "          ..\n",
       "204005   NaN\n",
       "204006   NaN\n",
       "204007   NaN\n",
       "204008   NaN\n",
       "204009   NaN\n",
       "Name: CD_ZON_TRAVX_ROUTR, Length: 204010, dtype: float64"
      ]
     },
     "execution_count": 82,
     "metadata": {},
     "output_type": "execute_result"
    }
   ],
   "source": [
    "df.CD_ZON_TRAVX_ROUTR"
   ]
  },
  {
   "cell_type": "code",
   "execution_count": 83,
   "id": "55cf857b-0377-4024-8028-c6b7c830b361",
   "metadata": {},
   "outputs": [
    {
     "data": {
      "text/plain": [
       "Series([], dtype: int64)"
      ]
     },
     "execution_count": 83,
     "metadata": {},
     "output_type": "execute_result"
    }
   ],
   "source": [
    "df.value_counts()"
   ]
  },
  {
   "cell_type": "markdown",
   "id": "bd7ffb70-61b3-482c-be7c-964ce6ab83d2",
   "metadata": {},
   "source": [
    "### CD_COND_METEO"
   ]
  },
  {
   "cell_type": "code",
   "execution_count": 84,
   "id": "5f813bfc-d339-4797-a93f-b4d6ba44600e",
   "metadata": {},
   "outputs": [
    {
     "data": {
      "text/plain": [
       "0         11.0\n",
       "1         11.0\n",
       "2         11.0\n",
       "3         11.0\n",
       "4         12.0\n",
       "          ... \n",
       "204005    11.0\n",
       "204006    11.0\n",
       "204007    11.0\n",
       "204008    11.0\n",
       "204009    11.0\n",
       "Name: CD_COND_METEO, Length: 204010, dtype: float64"
      ]
     },
     "execution_count": 84,
     "metadata": {},
     "output_type": "execute_result"
    }
   ],
   "source": [
    "df.CD_COND_METEO"
   ]
  },
  {
   "cell_type": "code",
   "execution_count": 85,
   "id": "cd7c8b27-7688-49d7-a5c8-f0f8e11ac16f",
   "metadata": {},
   "outputs": [
    {
     "data": {
      "text/plain": [
       "11.0    133068\n",
       "12.0     27747\n",
       "14.0     14114\n",
       "17.0     11111\n",
       "18.0      1387\n",
       "99.0      1123\n",
       "15.0      1083\n",
       "19.0       615\n",
       "16.0       407\n",
       "13.0       290\n",
       "Name: CD_COND_METEO, dtype: int64"
      ]
     },
     "execution_count": 85,
     "metadata": {},
     "output_type": "execute_result"
    }
   ],
   "source": [
    "df.CD_COND_METEO.value_counts()"
   ]
  },
  {
   "cell_type": "markdown",
   "id": "d1555709-85f5-4272-b70f-47b2137a68a5",
   "metadata": {},
   "source": [
    "### nb_automobile_camion_leger"
   ]
  },
  {
   "cell_type": "code",
   "execution_count": 86,
   "id": "f786ed37-6c65-429b-b8be-e94f070a1b76",
   "metadata": {},
   "outputs": [
    {
     "data": {
      "text/plain": [
       "303449.0"
      ]
     },
     "execution_count": 86,
     "metadata": {},
     "output_type": "execute_result"
    }
   ],
   "source": [
    "df.nb_automobile_camion_leger.sum()"
   ]
  },
  {
   "cell_type": "code",
   "execution_count": 87,
   "id": "d230443f-1097-47c9-b77a-c1b8f13675bd",
   "metadata": {},
   "outputs": [
    {
     "data": {
      "text/plain": [
       "1.0     93009\n",
       "2.0     84338\n",
       "0.0     14060\n",
       "3.0      9661\n",
       "4.0      2299\n",
       "5.0       441\n",
       "6.0       128\n",
       "7.0        36\n",
       "8.0        12\n",
       "9.0        10\n",
       "11.0        3\n",
       "10.0        3\n",
       "13.0        2\n",
       "12.0        2\n",
       "14.0        1\n",
       "30.0        1\n",
       "17.0        1\n",
       "Name: nb_automobile_camion_leger, dtype: int64"
      ]
     },
     "execution_count": 87,
     "metadata": {},
     "output_type": "execute_result"
    }
   ],
   "source": [
    "df.nb_automobile_camion_leger.value_counts()"
   ]
  },
  {
   "cell_type": "code",
   "execution_count": 88,
   "id": "597ab002-fdbe-499b-9946-c89e4c4292ea",
   "metadata": {},
   "outputs": [
    {
     "data": {
      "text/plain": [
       "1.4874440582921173"
      ]
     },
     "execution_count": 88,
     "metadata": {},
     "output_type": "execute_result"
    }
   ],
   "source": [
    "df.nb_automobile_camion_leger.mean()"
   ]
  },
  {
   "cell_type": "markdown",
   "id": "f04c9dcb-0fa2-489e-b97c-d359c4f6c3c2",
   "metadata": {},
   "source": [
    "### nb_camionLourd_tractRoutier"
   ]
  },
  {
   "cell_type": "code",
   "execution_count": 89,
   "id": "848f339a-e2a9-4e1e-bd50-9efb04e27edd",
   "metadata": {},
   "outputs": [
    {
     "data": {
      "text/plain": [
       "0         0.0\n",
       "1         0.0\n",
       "2         0.0\n",
       "3         0.0\n",
       "4         0.0\n",
       "         ... \n",
       "204005    0.0\n",
       "204006    0.0\n",
       "204007    0.0\n",
       "204008    0.0\n",
       "204009    0.0\n",
       "Name: nb_camionLourd_tractRoutier, Length: 204010, dtype: float64"
      ]
     },
     "execution_count": 89,
     "metadata": {},
     "output_type": "execute_result"
    }
   ],
   "source": [
    "df.nb_camionLourd_tractRoutier"
   ]
  },
  {
   "cell_type": "code",
   "execution_count": 90,
   "id": "d18128b8-8a58-45b1-a078-e4321201ad75",
   "metadata": {},
   "outputs": [
    {
     "data": {
      "text/plain": [
       "0.0    183719\n",
       "1.0     19570\n",
       "2.0       706\n",
       "3.0        12\n",
       "Name: nb_camionLourd_tractRoutier, dtype: int64"
      ]
     },
     "execution_count": 90,
     "metadata": {},
     "output_type": "execute_result"
    }
   ],
   "source": [
    "df.nb_camionLourd_tractRoutier.value_counts()"
   ]
  },
  {
   "cell_type": "code",
   "execution_count": 91,
   "id": "34806e2f-ce74-46c1-9585-d5a546b07a99",
   "metadata": {},
   "outputs": [
    {
     "data": {
      "text/plain": [
       "0.10302587656305912"
      ]
     },
     "execution_count": 91,
     "metadata": {},
     "output_type": "execute_result"
    }
   ],
   "source": [
    "df.nb_camionLourd_tractRoutier.mean()"
   ]
  },
  {
   "cell_type": "markdown",
   "id": "0577ffe0-1ba4-469d-8a56-afee09f361a8",
   "metadata": {},
   "source": [
    "### nb_outil_equipement"
   ]
  },
  {
   "cell_type": "code",
   "execution_count": 92,
   "id": "775bbf32-42c9-428d-b53c-422cea6595e6",
   "metadata": {},
   "outputs": [
    {
     "data": {
      "text/plain": [
       "0         0.0\n",
       "1         0.0\n",
       "2         0.0\n",
       "3         0.0\n",
       "4         0.0\n",
       "         ... \n",
       "204005    0.0\n",
       "204006    0.0\n",
       "204007    0.0\n",
       "204008    0.0\n",
       "204009    0.0\n",
       "Name: nb_outil_equipement, Length: 204010, dtype: float64"
      ]
     },
     "execution_count": 92,
     "metadata": {},
     "output_type": "execute_result"
    }
   ],
   "source": [
    "df.nb_outil_equipement"
   ]
  },
  {
   "cell_type": "code",
   "execution_count": 93,
   "id": "cbc84d97-5303-4570-b6d4-e242d775a15d",
   "metadata": {},
   "outputs": [
    {
     "data": {
      "text/plain": [
       "0.0    201031\n",
       "1.0      2964\n",
       "2.0        12\n",
       "Name: nb_outil_equipement, dtype: int64"
      ]
     },
     "execution_count": 93,
     "metadata": {},
     "output_type": "execute_result"
    }
   ],
   "source": [
    "df.nb_outil_equipement.value_counts()"
   ]
  },
  {
   "cell_type": "code",
   "execution_count": 94,
   "id": "5c376241-c306-442b-9085-47657b372fea",
   "metadata": {},
   "outputs": [
    {
     "data": {
      "text/plain": [
       "0.014646556245619023"
      ]
     },
     "execution_count": 94,
     "metadata": {},
     "output_type": "execute_result"
    }
   ],
   "source": [
    "df.nb_outil_equipement.mean()"
   ]
  },
  {
   "cell_type": "markdown",
   "id": "2882c3d4-d31d-4088-85ea-71fdf80a4f91",
   "metadata": {},
   "source": [
    "### nb_tous_autobus_minibus"
   ]
  },
  {
   "cell_type": "code",
   "execution_count": 95,
   "id": "3f61653e-558c-4a92-bb0b-fdc08ac221f8",
   "metadata": {},
   "outputs": [
    {
     "data": {
      "text/plain": [
       "0         0.0\n",
       "1         0.0\n",
       "2         0.0\n",
       "3         0.0\n",
       "4         0.0\n",
       "         ... \n",
       "204005    0.0\n",
       "204006    0.0\n",
       "204007    0.0\n",
       "204008    0.0\n",
       "204009    0.0\n",
       "Name: nb_tous_autobus_minibus, Length: 204010, dtype: float64"
      ]
     },
     "execution_count": 95,
     "metadata": {},
     "output_type": "execute_result"
    }
   ],
   "source": [
    "df.nb_tous_autobus_minibus"
   ]
  },
  {
   "cell_type": "code",
   "execution_count": 96,
   "id": "459e8eae-b8d6-4163-83f1-898d34feedd8",
   "metadata": {},
   "outputs": [
    {
     "data": {
      "text/plain": [
       "0.0    198765\n",
       "1.0      5172\n",
       "2.0        69\n",
       "3.0         1\n",
       "Name: nb_tous_autobus_minibus, dtype: int64"
      ]
     },
     "execution_count": 96,
     "metadata": {},
     "output_type": "execute_result"
    }
   ],
   "source": [
    "df.nb_tous_autobus_minibus.value_counts()"
   ]
  },
  {
   "cell_type": "code",
   "execution_count": 97,
   "id": "0a034be1-dbde-49e4-adf3-67dddd427bd5",
   "metadata": {},
   "outputs": [
    {
     "data": {
      "text/plain": [
       "0.026043224007019368"
      ]
     },
     "execution_count": 97,
     "metadata": {},
     "output_type": "execute_result"
    }
   ],
   "source": [
    "df.nb_tous_autobus_minibus.mean()"
   ]
  },
  {
   "cell_type": "markdown",
   "id": "1a4db552-c2a5-4a9c-b1d6-f9531f4bc61c",
   "metadata": {},
   "source": [
    "### nb_bicyclette "
   ]
  },
  {
   "cell_type": "code",
   "execution_count": 98,
   "id": "7d8b991a-e882-4447-aeca-f92c15e8c0ab",
   "metadata": {},
   "outputs": [
    {
     "data": {
      "text/plain": [
       "0         0.0\n",
       "1         0.0\n",
       "2         0.0\n",
       "3         0.0\n",
       "4         0.0\n",
       "         ... \n",
       "204005    0.0\n",
       "204006    0.0\n",
       "204007    0.0\n",
       "204008    0.0\n",
       "204009    0.0\n",
       "Name: nb_bicyclette, Length: 204010, dtype: float64"
      ]
     },
     "execution_count": 98,
     "metadata": {},
     "output_type": "execute_result"
    }
   ],
   "source": [
    "df.nb_bicyclette"
   ]
  },
  {
   "cell_type": "code",
   "execution_count": 99,
   "id": "ec619e64-e346-4e46-a2c9-76219f00e36a",
   "metadata": {},
   "outputs": [
    {
     "data": {
      "text/plain": [
       "0.0    196030\n",
       "1.0      7939\n",
       "2.0        36\n",
       "7.0         1\n",
       "3.0         1\n",
       "Name: nb_bicyclette, dtype: int64"
      ]
     },
     "execution_count": 99,
     "metadata": {},
     "output_type": "execute_result"
    }
   ],
   "source": [
    "df.nb_bicyclette.value_counts()"
   ]
  },
  {
   "cell_type": "code",
   "execution_count": 100,
   "id": "7c0775ce-41c9-47b0-a23e-c3999e5e9c12",
   "metadata": {},
   "outputs": [
    {
     "data": {
      "text/plain": [
       "0.0393172783286848"
      ]
     },
     "execution_count": 100,
     "metadata": {},
     "output_type": "execute_result"
    }
   ],
   "source": [
    "df.nb_bicyclette.mean()"
   ]
  },
  {
   "cell_type": "markdown",
   "id": "3e4e6402-b753-49f9-8b1a-0e1e0565974b",
   "metadata": {
    "tags": []
   },
   "source": [
    "### nb_cyclomoteur"
   ]
  },
  {
   "cell_type": "code",
   "execution_count": 101,
   "id": "3c709391-c04e-49db-87f0-6fc11b75aab2",
   "metadata": {},
   "outputs": [
    {
     "data": {
      "text/plain": [
       "0         0.0\n",
       "1         0.0\n",
       "2         0.0\n",
       "3         0.0\n",
       "4         0.0\n",
       "         ... \n",
       "204005    0.0\n",
       "204006    0.0\n",
       "204007    0.0\n",
       "204008    0.0\n",
       "204009    0.0\n",
       "Name: nb_cyclomoteur, Length: 204010, dtype: float64"
      ]
     },
     "execution_count": 101,
     "metadata": {},
     "output_type": "execute_result"
    }
   ],
   "source": [
    "df.nb_cyclomoteur"
   ]
  },
  {
   "cell_type": "code",
   "execution_count": 102,
   "id": "8cd8c600-f09e-49fb-8131-736ce8ed9c76",
   "metadata": {},
   "outputs": [
    {
     "data": {
      "text/plain": [
       "0.0    202763\n",
       "1.0      1230\n",
       "2.0        14\n",
       "Name: nb_cyclomoteur, dtype: int64"
      ]
     },
     "execution_count": 102,
     "metadata": {},
     "output_type": "execute_result"
    }
   ],
   "source": [
    "df.nb_cyclomoteur.value_counts()"
   ]
  },
  {
   "cell_type": "code",
   "execution_count": 103,
   "id": "b9a7101b-9b46-4da1-abfe-8feef99fb9e4",
   "metadata": {},
   "outputs": [
    {
     "data": {
      "text/plain": [
       "0.006166455072620057"
      ]
     },
     "execution_count": 103,
     "metadata": {},
     "output_type": "execute_result"
    }
   ],
   "source": [
    "df.nb_cyclomoteur.mean()"
   ]
  },
  {
   "cell_type": "markdown",
   "id": "0a59f105-291f-4e5b-bdfc-dca79751fb51",
   "metadata": {},
   "source": [
    "### nb_motocyclette|"
   ]
  },
  {
   "cell_type": "code",
   "execution_count": 104,
   "id": "33719506-f292-4990-bb54-0b4b031b0b53",
   "metadata": {},
   "outputs": [
    {
     "data": {
      "text/plain": [
       "0         0.0\n",
       "1         0.0\n",
       "2         0.0\n",
       "3         0.0\n",
       "4         0.0\n",
       "         ... \n",
       "204005    0.0\n",
       "204006    1.0\n",
       "204007    0.0\n",
       "204008    0.0\n",
       "204009    0.0\n",
       "Name: nb_motocyclette, Length: 204010, dtype: float64"
      ]
     },
     "execution_count": 104,
     "metadata": {},
     "output_type": "execute_result"
    }
   ],
   "source": [
    "df.nb_motocyclette"
   ]
  },
  {
   "cell_type": "code",
   "execution_count": 105,
   "id": "d0231fe3-b5fe-4699-b256-6876290a151b",
   "metadata": {},
   "outputs": [
    {
     "data": {
      "text/plain": [
       "0.0    201299\n",
       "1.0      2667\n",
       "2.0        38\n",
       "3.0         3\n",
       "Name: nb_motocyclette, dtype: int64"
      ]
     },
     "execution_count": 105,
     "metadata": {},
     "output_type": "execute_result"
    }
   ],
   "source": [
    "df.nb_motocyclette.value_counts()"
   ]
  },
  {
   "cell_type": "code",
   "execution_count": 106,
   "id": "b0731f3a-bc11-4257-a8e7-a03081d7e2f8",
   "metadata": {},
   "outputs": [
    {
     "data": {
      "text/plain": [
       "0.013489733195429569"
      ]
     },
     "execution_count": 106,
     "metadata": {},
     "output_type": "execute_result"
    }
   ],
   "source": [
    "df.nb_motocyclette.mean()"
   ]
  },
  {
   "cell_type": "markdown",
   "id": "28b6af9d-9cb7-49e1-8cef-e48719441f11",
   "metadata": {},
   "source": [
    "### nb_taxi"
   ]
  },
  {
   "cell_type": "code",
   "execution_count": 107,
   "id": "e79766e1-0f7e-41a4-b13d-b6444613cf48",
   "metadata": {},
   "outputs": [
    {
     "data": {
      "text/plain": [
       "0         0.0\n",
       "1         0.0\n",
       "2         0.0\n",
       "3         0.0\n",
       "4         0.0\n",
       "         ... \n",
       "204005    0.0\n",
       "204006    0.0\n",
       "204007    0.0\n",
       "204008    0.0\n",
       "204009    0.0\n",
       "Name: nb_taxi, Length: 204010, dtype: float64"
      ]
     },
     "execution_count": 107,
     "metadata": {},
     "output_type": "execute_result"
    }
   ],
   "source": [
    "df.nb_taxi"
   ]
  },
  {
   "cell_type": "code",
   "execution_count": 108,
   "id": "52fa7e72-44e0-4b2c-90e9-b04c5e465757",
   "metadata": {},
   "outputs": [
    {
     "data": {
      "text/plain": [
       "0.0    197368\n",
       "1.0      6458\n",
       "2.0       178\n",
       "3.0         2\n",
       "7.0         1\n",
       "Name: nb_taxi, dtype: int64"
      ]
     },
     "execution_count": 108,
     "metadata": {},
     "output_type": "execute_result"
    }
   ],
   "source": [
    "df.nb_taxi.value_counts()"
   ]
  },
  {
   "cell_type": "code",
   "execution_count": 109,
   "id": "6a1d6b0d-35dd-4f9c-a32e-6282038ebf2f",
   "metadata": {},
   "outputs": [
    {
     "data": {
      "text/plain": [
       "0.03346453798153985"
      ]
     },
     "execution_count": 109,
     "metadata": {},
     "output_type": "execute_result"
    }
   ],
   "source": [
    "df.nb_taxi.mean()"
   ]
  },
  {
   "cell_type": "markdown",
   "id": "bb3ac0ef-6e26-4ba5-a58d-4e9e61e5fd1e",
   "metadata": {},
   "source": [
    "### nb_urgence"
   ]
  },
  {
   "cell_type": "code",
   "execution_count": 110,
   "id": "bde2cafe-0bbe-40a8-bd46-a9a73233535b",
   "metadata": {},
   "outputs": [
    {
     "data": {
      "text/plain": [
       "0         0.0\n",
       "1         0.0\n",
       "2         0.0\n",
       "3         0.0\n",
       "4         0.0\n",
       "         ... \n",
       "204005    0.0\n",
       "204006    0.0\n",
       "204007    0.0\n",
       "204008    0.0\n",
       "204009    0.0\n",
       "Name: nb_urgence, Length: 204010, dtype: float64"
      ]
     },
     "execution_count": 110,
     "metadata": {},
     "output_type": "execute_result"
    }
   ],
   "source": [
    "df.nb_urgence"
   ]
  },
  {
   "cell_type": "code",
   "execution_count": 111,
   "id": "0a986b3f-0d0c-49f3-a7fe-906f2d485aef",
   "metadata": {},
   "outputs": [
    {
     "data": {
      "text/plain": [
       "0.0    197615\n",
       "1.0      6016\n",
       "2.0       373\n",
       "3.0         2\n",
       "4.0         1\n",
       "Name: nb_urgence, dtype: int64"
      ]
     },
     "execution_count": 111,
     "metadata": {},
     "output_type": "execute_result"
    }
   ],
   "source": [
    "df.nb_urgence.value_counts()"
   ]
  },
  {
   "cell_type": "code",
   "execution_count": 112,
   "id": "1b599bda-f0a5-438f-8b56-3e54d40b9e6e",
   "metadata": {},
   "outputs": [
    {
     "data": {
      "text/plain": [
       "0.03319493938933468"
      ]
     },
     "execution_count": 112,
     "metadata": {},
     "output_type": "execute_result"
    }
   ],
   "source": [
    "df.nb_urgence.mean()"
   ]
  },
  {
   "cell_type": "markdown",
   "id": "224cea8a-2161-4819-902b-24969657f897",
   "metadata": {},
   "source": [
    "### nb_motoneige"
   ]
  },
  {
   "cell_type": "code",
   "execution_count": 113,
   "id": "67b6cbf1-2d4e-450a-ac12-3634383e88ea",
   "metadata": {},
   "outputs": [
    {
     "data": {
      "text/plain": [
       "0         0.0\n",
       "1         0.0\n",
       "2         0.0\n",
       "3         0.0\n",
       "4         0.0\n",
       "         ... \n",
       "204005    0.0\n",
       "204006    0.0\n",
       "204007    0.0\n",
       "204008    0.0\n",
       "204009    0.0\n",
       "Name: nb_motoneige, Length: 204010, dtype: float64"
      ]
     },
     "execution_count": 113,
     "metadata": {},
     "output_type": "execute_result"
    }
   ],
   "source": [
    "df.nb_motoneige"
   ]
  },
  {
   "cell_type": "code",
   "execution_count": 114,
   "id": "5e81ba10-6a4b-461e-976a-17327ea7de6b",
   "metadata": {},
   "outputs": [
    {
     "data": {
      "text/plain": [
       "0.0    204001\n",
       "1.0         6\n",
       "Name: nb_motoneige, dtype: int64"
      ]
     },
     "execution_count": 114,
     "metadata": {},
     "output_type": "execute_result"
    }
   ],
   "source": [
    "df.nb_motoneige.value_counts()"
   ]
  },
  {
   "cell_type": "code",
   "execution_count": 115,
   "id": "a7b5bc1f-2ef8-475f-8d17-ca1a84f413ab",
   "metadata": {},
   "outputs": [
    {
     "data": {
      "text/plain": [
       "2.9410755513291212e-05"
      ]
     },
     "execution_count": 115,
     "metadata": {},
     "output_type": "execute_result"
    }
   ],
   "source": [
    "df.nb_motoneige.mean()"
   ]
  },
  {
   "cell_type": "markdown",
   "id": "6b522e83-45ae-4d3a-8c7d-80a894aa6c4b",
   "metadata": {},
   "source": [
    "### nb_VHR"
   ]
  },
  {
   "cell_type": "code",
   "execution_count": 116,
   "id": "2c2b6edc-6225-440b-9862-56d1faefcea3",
   "metadata": {},
   "outputs": [
    {
     "data": {
      "text/plain": [
       "0         0.0\n",
       "1         0.0\n",
       "2         0.0\n",
       "3         0.0\n",
       "4         0.0\n",
       "         ... \n",
       "204005    0.0\n",
       "204006    0.0\n",
       "204007    0.0\n",
       "204008    0.0\n",
       "204009    0.0\n",
       "Name: nb_VHR, Length: 204010, dtype: float64"
      ]
     },
     "execution_count": 116,
     "metadata": {},
     "output_type": "execute_result"
    }
   ],
   "source": [
    "df.nb_VHR"
   ]
  },
  {
   "cell_type": "code",
   "execution_count": 117,
   "id": "ddc56f10-549a-48c3-80f5-28f0cf2d51a5",
   "metadata": {},
   "outputs": [
    {
     "data": {
      "text/plain": [
       "0.0    203994\n",
       "1.0        13\n",
       "Name: nb_VHR, dtype: int64"
      ]
     },
     "execution_count": 117,
     "metadata": {},
     "output_type": "execute_result"
    }
   ],
   "source": [
    "df.nb_VHR.value_counts()"
   ]
  },
  {
   "cell_type": "code",
   "execution_count": 118,
   "id": "558ea1c3-1cd4-4e30-a39b-60a112bfb105",
   "metadata": {},
   "outputs": [
    {
     "data": {
      "text/plain": [
       "6.372330361213096e-05"
      ]
     },
     "execution_count": 118,
     "metadata": {},
     "output_type": "execute_result"
    }
   ],
   "source": [
    "df.nb_VHR.mean()"
   ]
  },
  {
   "cell_type": "markdown",
   "id": "5c446f1f-a5b6-4ea5-b8e4-b67df722715e",
   "metadata": {},
   "source": [
    "### nb_autres_types"
   ]
  },
  {
   "cell_type": "code",
   "execution_count": 119,
   "id": "ee840d09-d692-4613-924f-f4fee2e2f4c1",
   "metadata": {},
   "outputs": [
    {
     "data": {
      "text/plain": [
       "0         0.0\n",
       "1         0.0\n",
       "2         0.0\n",
       "3         0.0\n",
       "4         0.0\n",
       "         ... \n",
       "204005    0.0\n",
       "204006    0.0\n",
       "204007    0.0\n",
       "204008    0.0\n",
       "204009    0.0\n",
       "Name: nb_autres_types, Length: 204010, dtype: float64"
      ]
     },
     "execution_count": 119,
     "metadata": {},
     "output_type": "execute_result"
    }
   ],
   "source": [
    "df.nb_autres_types"
   ]
  },
  {
   "cell_type": "code",
   "execution_count": 120,
   "id": "a707c70f-2fd9-491f-9a0c-fc8519cb18be",
   "metadata": {},
   "outputs": [
    {
     "data": {
      "text/plain": [
       "0.0    202858\n",
       "1.0      1144\n",
       "2.0         4\n",
       "3.0         1\n",
       "Name: nb_autres_types, dtype: int64"
      ]
     },
     "execution_count": 120,
     "metadata": {},
     "output_type": "execute_result"
    }
   ],
   "source": [
    "df.nb_autres_types.value_counts()"
   ]
  },
  {
   "cell_type": "code",
   "execution_count": 121,
   "id": "c9334d7f-9101-46b1-b645-d1f56d71d752",
   "metadata": {},
   "outputs": [
    {
     "data": {
      "text/plain": [
       "0.005661570436308558"
      ]
     },
     "execution_count": 121,
     "metadata": {},
     "output_type": "execute_result"
    }
   ],
   "source": [
    "df.nb_autres_types.mean()"
   ]
  },
  {
   "cell_type": "markdown",
   "id": "ca51b430-1c40-480f-a3bb-b914d06ca63c",
   "metadata": {},
   "source": [
    "### nb_veh_non_precise "
   ]
  },
  {
   "cell_type": "code",
   "execution_count": 122,
   "id": "7bc46c4a-bfe7-46c3-82df-39a2a16655f0",
   "metadata": {},
   "outputs": [
    {
     "data": {
      "text/plain": [
       "0         1.0\n",
       "1         1.0\n",
       "2         0.0\n",
       "3         0.0\n",
       "4         1.0\n",
       "         ... \n",
       "204005    0.0\n",
       "204006    0.0\n",
       "204007    0.0\n",
       "204008    0.0\n",
       "204009    0.0\n",
       "Name: nb_veh_non_precise, Length: 204010, dtype: float64"
      ]
     },
     "execution_count": 122,
     "metadata": {},
     "output_type": "execute_result"
    }
   ],
   "source": [
    "df.nb_veh_non_precise"
   ]
  },
  {
   "cell_type": "code",
   "execution_count": 123,
   "id": "0922d0bc-fa45-4887-b109-6c818d59146f",
   "metadata": {},
   "outputs": [
    {
     "data": {
      "text/plain": [
       "0.0    165869\n",
       "1.0     37948\n",
       "2.0       184\n",
       "3.0         4\n",
       "4.0         1\n",
       "5.0         1\n",
       "Name: nb_veh_non_precise, dtype: int64"
      ]
     },
     "execution_count": 123,
     "metadata": {},
     "output_type": "execute_result"
    }
   ],
   "source": [
    "df.nb_veh_non_precise.value_counts()"
   ]
  },
  {
   "cell_type": "code",
   "execution_count": 124,
   "id": "bb147a71-2efe-42f1-99a6-46c2d7b53795",
   "metadata": {},
   "outputs": [
    {
     "data": {
      "text/plain": [
       "0.1879200223521742"
      ]
     },
     "execution_count": 124,
     "metadata": {},
     "output_type": "execute_result"
    }
   ],
   "source": [
    "df.nb_veh_non_precise.mean()"
   ]
  },
  {
   "cell_type": "markdown",
   "id": "a1d649ba-ddec-4d4b-a781-57004c1b19b4",
   "metadata": {},
   "source": [
    "### "
   ]
  }
 ],
 "metadata": {
  "kernelspec": {
   "display_name": "Python 3 (ipykernel)",
   "language": "python",
   "name": "python3"
  },
  "language_info": {
   "codemirror_mode": {
    "name": "ipython",
    "version": 3
   },
   "file_extension": ".py",
   "mimetype": "text/x-python",
   "name": "python",
   "nbconvert_exporter": "python",
   "pygments_lexer": "ipython3",
   "version": "3.10.0"
  }
 },
 "nbformat": 4,
 "nbformat_minor": 5
}
