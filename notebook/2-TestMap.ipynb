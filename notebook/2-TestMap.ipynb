{
 "cells": [
  {
   "cell_type": "code",
   "execution_count": 1,
   "id": "2352ad1b-8d7b-427c-b931-85e1855b0e3c",
   "metadata": {},
   "outputs": [],
   "source": [
    "import geopandas as gpd\n",
    "import pandas as pd\n",
    "import numpy as np\n",
    "import plotly.express as px\n",
    "import pyproj as pj\n",
    "from pyproj import Geod, CRS, Proj, Transformer"
   ]
  },
  {
   "cell_type": "code",
   "execution_count": 2,
   "id": "f96f0bf3-aa7b-466c-ade0-0fc4d5bd0104",
   "metadata": {},
   "outputs": [
    {
     "name": "stderr",
     "output_type": "stream",
     "text": [
      "C:\\Users\\User\\AppData\\Local\\Programs\\Python\\Python39\\lib\\site-packages\\geopandas\\geodataframe.py:35: ShapelyDeprecationWarning: The array interface is deprecated and will no longer work in Shapely 2.0. Convert the '.coords' to a numpy array instead.\n",
      "  out = from_shapely(data)\n"
     ]
    }
   ],
   "source": [
    "ls = gpd.read_file(\"CAMION TRC_MTL_polyline.shp\")"
   ]
  },
  {
   "cell_type": "code",
   "execution_count": 3,
   "id": "92167d3d-0c8e-4418-a682-4c72c1e528c3",
   "metadata": {},
   "outputs": [
    {
     "name": "stderr",
     "output_type": "stream",
     "text": [
      "C:\\Users\\User\\AppData\\Local\\Programs\\Python\\Python39\\lib\\site-packages\\geopandas\\geoseries.py:133: ShapelyDeprecationWarning: The array interface is deprecated and will no longer work in Shapely 2.0. Convert the '.coords' to a numpy array instead.\n",
      "  data = from_shapely(s.values)\n"
     ]
    }
   ],
   "source": [
    "ls = ls.to_crs(\"epsg:4326\")"
   ]
  },
  {
   "cell_type": "code",
   "execution_count": 4,
   "id": "e8b53eaf-4c99-40d5-9bf9-6e4e7084ea7e",
   "metadata": {},
   "outputs": [
    {
     "name": "stdout",
     "output_type": "stream",
     "text": [
      "          ID_TRC   NOM_VOIE      NO  CAMION APPR_MTQ  \\\n",
      "0      1602102.0      Brock    None       3        f   \n",
      "1      1602103.0      Brock    None       3        f   \n",
      "2      1602104.0      Brock    None       3        f   \n",
      "3      1602106.0       Avon    None       3        f   \n",
      "4      1602107.0  Carnarvon    None       3        f   \n",
      "...          ...        ...     ...     ...      ...   \n",
      "45228  4011683.0       None  RCA-85       1        t   \n",
      "45229  4011685.0     Masson  RCA-85       2        t   \n",
      "45230  4011686.0     Masson  RCA-85       2        t   \n",
      "45231  4011687.0     Masson  RCA-85       2        t   \n",
      "45232  1160592.0     Masson  RCA-85       2        t   \n",
      "\n",
      "                                                geometry  \n",
      "0      LINESTRING (-73.63720 45.45105, -73.63629 45.4...  \n",
      "1      LINESTRING (-73.63828 45.45148, -73.63720 45.4...  \n",
      "2      LINESTRING (-73.64000 45.45222, -73.63988 45.4...  \n",
      "3      LINESTRING (-73.64000 45.45222, -73.64082 45.4...  \n",
      "4      LINESTRING (-73.63883 45.45082, -73.63828 45.4...  \n",
      "...                                                  ...  \n",
      "45228  LINESTRING (-73.57480 45.54162, -73.57611 45.5...  \n",
      "45229  LINESTRING (-73.57814 45.54302, -73.57766 45.5...  \n",
      "45230  LINESTRING (-73.57965 45.54142, -73.57830 45.5...  \n",
      "45231  LINESTRING (-73.57830 45.54285, -73.57814 45.5...  \n",
      "45232  LINESTRING (-73.57844 45.54250, -73.57825 45.5...  \n",
      "\n",
      "[45233 rows x 6 columns]\n"
     ]
    }
   ],
   "source": [
    "print(ls)"
   ]
  },
  {
   "cell_type": "code",
   "execution_count": 5,
   "id": "af73b76c-4634-4a94-8bdd-d3809e3220b3",
   "metadata": {},
   "outputs": [],
   "source": [
    "lats = []\n",
    "lons = []\n",
    "\n",
    "#takes a while to compute\n",
    "for line in ls[\"geometry\"]:\n",
    "        x, y = line.xy\n",
    "        lats = np.append(lats, y)\n",
    "        lons = np.append(lons, x)\n",
    "        \n",
    "        lats = np.append(lats, None)\n",
    "        lons = np.append(lons, None)"
   ]
  },
  {
   "cell_type": "code",
   "execution_count": 6,
   "id": "ac6cc2ce-bd43-4060-8805-b7b8374120fc",
   "metadata": {},
   "outputs": [],
   "source": [
    "names = []\n",
    "route_type = []\n",
    "\n",
    "name_raw = ls[\"NOM_VOIE\"]\n",
    "type_raw = ls[\"CAMION\"]\n",
    "\n",
    "#takes a while to compute\n",
    "j=0\n",
    "for i in range(len(lats)):\n",
    "    if lats[i] != None :\n",
    "        names = np.append(names, name_raw[j])\n",
    "        route_type = np.append(route_type, type_raw[j])\n",
    "    else:\n",
    "        #names = np.append(names, None)\n",
    "        #route_type = np.append(route_type, None)\n",
    "        names = np.append(names, name_raw[j])\n",
    "        route_type = np.append(route_type, type_raw[j])\n",
    "        j+=1\n"
   ]
  },
  {
   "cell_type": "code",
   "execution_count": 27,
   "id": "641e91be-1f12-4814-94d6-15c9bcec0877",
   "metadata": {},
   "outputs": [],
   "source": [
    "type_string = np.empty((len(lats)), dtype=str)\n",
    "type_string[route_type == 0.0] = \"Inconnu\"\n",
    "type_string[route_type == 1.0] = \"Toujours\"\n",
    "type_string[route_type == 2.0] = \"Jour seulement\"\n",
    "type_string[route_type == 3.0] = \"Livraison locale seulement\"\n",
    "\n",
    "\n",
    "order = [0.0, 1.0, 2.0, 3.0]\n"
   ]
  },
  {
   "cell_type": "code",
   "execution_count": 28,
   "id": "e797cf67-8cfa-4797-8431-d80be9747eaa",
   "metadata": {},
   "outputs": [
    {
     "ename": "AttributeError",
     "evalue": "'str' object has no attribute 'copy'",
     "output_type": "error",
     "traceback": [
      "\u001b[1;31m---------------------------------------------------------------------------\u001b[0m",
      "\u001b[1;31mAttributeError\u001b[0m                            Traceback (most recent call last)",
      "Input \u001b[1;32mIn [28]\u001b[0m, in \u001b[0;36m<cell line: 1>\u001b[1;34m()\u001b[0m\n\u001b[1;32m----> 1\u001b[0m fig \u001b[38;5;241m=\u001b[39m \u001b[43mpx\u001b[49m\u001b[38;5;241;43m.\u001b[39;49m\u001b[43mline_mapbox\u001b[49m\u001b[43m(\u001b[49m\n\u001b[0;32m      2\u001b[0m \u001b[43mlat\u001b[49m\u001b[38;5;241;43m=\u001b[39;49m\u001b[43mlats\u001b[49m\u001b[43m,\u001b[49m\u001b[43m \u001b[49m\n\u001b[0;32m      3\u001b[0m \u001b[43mlon\u001b[49m\u001b[38;5;241;43m=\u001b[39;49m\u001b[43mlons\u001b[49m\u001b[43m,\u001b[49m\u001b[43m \u001b[49m\n\u001b[0;32m      4\u001b[0m \u001b[43mmapbox_style\u001b[49m\u001b[38;5;241;43m=\u001b[39;49m\u001b[38;5;124;43m\"\u001b[39;49m\u001b[38;5;124;43mopen-street-map\u001b[39;49m\u001b[38;5;124;43m\"\u001b[39;49m\u001b[43m,\u001b[49m\n\u001b[0;32m      5\u001b[0m \u001b[43mcolor\u001b[49m\u001b[38;5;241;43m=\u001b[39;49m\u001b[43mroute_type\u001b[49m\u001b[43m,\u001b[49m\n\u001b[0;32m      6\u001b[0m \u001b[43mhover_name\u001b[49m\u001b[38;5;241;43m=\u001b[39;49m\u001b[43mnames\u001b[49m\u001b[43m,\u001b[49m\n\u001b[0;32m      7\u001b[0m \u001b[43mcategory_orders\u001b[49m\u001b[38;5;241;43m=\u001b[39;49m\u001b[38;5;124;43m\"\u001b[39;49m\u001b[38;5;124;43mtotal descending\u001b[39;49m\u001b[38;5;124;43m\"\u001b[39;49m\u001b[43m,\u001b[49m\n\u001b[0;32m      8\u001b[0m \u001b[38;5;66;43;03m#category_orders={\"route_type\"}\u001b[39;49;00m\n\u001b[0;32m      9\u001b[0m \u001b[38;5;66;43;03m#animation_frame=\"time\",\u001b[39;49;00m\n\u001b[0;32m     10\u001b[0m \u001b[38;5;66;43;03m#center =dict(lon=-97.0,lat=38.0),\u001b[39;49;00m\n\u001b[0;32m     11\u001b[0m \u001b[38;5;66;43;03m#zoom=3, height=600\u001b[39;49;00m\n\u001b[0;32m     12\u001b[0m \u001b[43m)\u001b[49m\n\u001b[0;32m     14\u001b[0m fig\n",
      "File \u001b[1;32m~\\AppData\\Local\\Programs\\Python\\Python39\\lib\\site-packages\\plotly\\express\\_chart_types.py:1341\u001b[0m, in \u001b[0;36mline_mapbox\u001b[1;34m(data_frame, lat, lon, color, text, hover_name, hover_data, custom_data, line_group, animation_frame, animation_group, category_orders, labels, color_discrete_sequence, color_discrete_map, zoom, center, mapbox_style, title, template, width, height)\u001b[0m\n\u001b[0;32m   1313\u001b[0m \u001b[38;5;28;01mdef\u001b[39;00m \u001b[38;5;21mline_mapbox\u001b[39m(\n\u001b[0;32m   1314\u001b[0m     data_frame\u001b[38;5;241m=\u001b[39m\u001b[38;5;28;01mNone\u001b[39;00m,\n\u001b[0;32m   1315\u001b[0m     lat\u001b[38;5;241m=\u001b[39m\u001b[38;5;28;01mNone\u001b[39;00m,\n\u001b[1;32m   (...)\u001b[0m\n\u001b[0;32m   1335\u001b[0m     height\u001b[38;5;241m=\u001b[39m\u001b[38;5;28;01mNone\u001b[39;00m,\n\u001b[0;32m   1336\u001b[0m ):\n\u001b[0;32m   1337\u001b[0m     \u001b[38;5;124;03m\"\"\"\u001b[39;00m\n\u001b[0;32m   1338\u001b[0m \u001b[38;5;124;03m    In a Mapbox line plot, each row of `data_frame` is represented as\u001b[39;00m\n\u001b[0;32m   1339\u001b[0m \u001b[38;5;124;03m    vertex of a polyline mark on a Mapbox map.\u001b[39;00m\n\u001b[0;32m   1340\u001b[0m \u001b[38;5;124;03m    \"\"\"\u001b[39;00m\n\u001b[1;32m-> 1341\u001b[0m     \u001b[38;5;28;01mreturn\u001b[39;00m \u001b[43mmake_figure\u001b[49m\u001b[43m(\u001b[49m\u001b[43margs\u001b[49m\u001b[38;5;241;43m=\u001b[39;49m\u001b[38;5;28;43mlocals\u001b[39;49m\u001b[43m(\u001b[49m\u001b[43m)\u001b[49m\u001b[43m,\u001b[49m\u001b[43m \u001b[49m\u001b[43mconstructor\u001b[49m\u001b[38;5;241;43m=\u001b[39;49m\u001b[43mgo\u001b[49m\u001b[38;5;241;43m.\u001b[39;49m\u001b[43mScattermapbox\u001b[49m\u001b[43m)\u001b[49m\n",
      "File \u001b[1;32m~\\AppData\\Local\\Programs\\Python\\Python39\\lib\\site-packages\\plotly\\express\\_core.py:1958\u001b[0m, in \u001b[0;36mmake_figure\u001b[1;34m(args, constructor, trace_patch, layout_patch)\u001b[0m\n\u001b[0;32m   1955\u001b[0m grouper \u001b[38;5;241m=\u001b[39m [x\u001b[38;5;241m.\u001b[39mgrouper \u001b[38;5;129;01mor\u001b[39;00m one_group \u001b[38;5;28;01mfor\u001b[39;00m x \u001b[38;5;129;01min\u001b[39;00m grouped_mappings] \u001b[38;5;129;01mor\u001b[39;00m [one_group]\n\u001b[0;32m   1956\u001b[0m grouped \u001b[38;5;241m=\u001b[39m args[\u001b[38;5;124m\"\u001b[39m\u001b[38;5;124mdata_frame\u001b[39m\u001b[38;5;124m\"\u001b[39m]\u001b[38;5;241m.\u001b[39mgroupby(grouper, sort\u001b[38;5;241m=\u001b[39m\u001b[38;5;28;01mFalse\u001b[39;00m)\n\u001b[1;32m-> 1958\u001b[0m orders, sorted_group_names \u001b[38;5;241m=\u001b[39m \u001b[43mget_orderings\u001b[49m\u001b[43m(\u001b[49m\u001b[43margs\u001b[49m\u001b[43m,\u001b[49m\u001b[43m \u001b[49m\u001b[43mgrouper\u001b[49m\u001b[43m,\u001b[49m\u001b[43m \u001b[49m\u001b[43mgrouped\u001b[49m\u001b[43m)\u001b[49m\n\u001b[0;32m   1960\u001b[0m col_labels \u001b[38;5;241m=\u001b[39m []\n\u001b[0;32m   1961\u001b[0m row_labels \u001b[38;5;241m=\u001b[39m []\n",
      "File \u001b[1;32m~\\AppData\\Local\\Programs\\Python\\Python39\\lib\\site-packages\\plotly\\express\\_core.py:1916\u001b[0m, in \u001b[0;36mget_orderings\u001b[1;34m(args, grouper, grouped)\u001b[0m\n\u001b[0;32m   1904\u001b[0m \u001b[38;5;28;01mdef\u001b[39;00m \u001b[38;5;21mget_orderings\u001b[39m(args, grouper, grouped):\n\u001b[0;32m   1905\u001b[0m     \u001b[38;5;124;03m\"\"\"\u001b[39;00m\n\u001b[0;32m   1906\u001b[0m \u001b[38;5;124;03m    `orders` is the user-supplied ordering with the remaining data-frame-supplied\u001b[39;00m\n\u001b[0;32m   1907\u001b[0m \u001b[38;5;124;03m    ordering appended if the column is used for grouping. It includes anything the user\u001b[39;00m\n\u001b[1;32m   (...)\u001b[0m\n\u001b[0;32m   1913\u001b[0m \u001b[38;5;124;03m    of a single dimension-group\u001b[39;00m\n\u001b[0;32m   1914\u001b[0m \u001b[38;5;124;03m    \"\"\"\u001b[39;00m\n\u001b[1;32m-> 1916\u001b[0m     orders \u001b[38;5;241m=\u001b[39m {} \u001b[38;5;28;01mif\u001b[39;00m \u001b[38;5;124m\"\u001b[39m\u001b[38;5;124mcategory_orders\u001b[39m\u001b[38;5;124m\"\u001b[39m \u001b[38;5;129;01mnot\u001b[39;00m \u001b[38;5;129;01min\u001b[39;00m args \u001b[38;5;28;01melse\u001b[39;00m \u001b[43margs\u001b[49m\u001b[43m[\u001b[49m\u001b[38;5;124;43m\"\u001b[39;49m\u001b[38;5;124;43mcategory_orders\u001b[39;49m\u001b[38;5;124;43m\"\u001b[39;49m\u001b[43m]\u001b[49m\u001b[38;5;241;43m.\u001b[39;49m\u001b[43mcopy\u001b[49m()\n\u001b[0;32m   1917\u001b[0m     \u001b[38;5;28;01mfor\u001b[39;00m col \u001b[38;5;129;01min\u001b[39;00m grouper:\n\u001b[0;32m   1918\u001b[0m         \u001b[38;5;28;01mif\u001b[39;00m col \u001b[38;5;241m!=\u001b[39m one_group:\n",
      "\u001b[1;31mAttributeError\u001b[0m: 'str' object has no attribute 'copy'"
     ]
    }
   ],
   "source": [
    "fig = px.line_mapbox(\n",
    "lat=lats, \n",
    "lon=lons, \n",
    "mapbox_style=\"open-street-map\",\n",
    "color=route_type,\n",
    "hover_name=names,\n",
    "#category_orders={\"route_type\":order}\n",
    "#animation_frame=\"time\",\n",
    "#center =dict(lon=-97.0,lat=38.0),\n",
    "#zoom=3, height=600\n",
    ")\n",
    "\n",
    "fig\n",
    "\n",
    "#fig.add_trace() to add points ? \n"
   ]
  },
  {
   "cell_type": "code",
   "execution_count": null,
   "id": "089d9fae-2c4d-4771-82ca-b91fdf02c082",
   "metadata": {},
   "outputs": [],
   "source": []
  }
 ],
 "metadata": {
  "kernelspec": {
   "display_name": "Python 3 (ipykernel)",
   "language": "python",
   "name": "python3"
  },
  "language_info": {
   "codemirror_mode": {
    "name": "ipython",
    "version": 3
   },
   "file_extension": ".py",
   "mimetype": "text/x-python",
   "name": "python",
   "nbconvert_exporter": "python",
   "pygments_lexer": "ipython3",
   "version": "3.9.10"
  }
 },
 "nbformat": 4,
 "nbformat_minor": 5
}
